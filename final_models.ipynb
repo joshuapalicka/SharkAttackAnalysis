{
 "cells": [
  {
   "cell_type": "code",
   "execution_count": 210,
   "metadata": {},
   "outputs": [],
   "source": [
    "import pandas as pd\n",
    "import numpy as np\n",
    "import matplotlib.pyplot as plt\n",
    "\n",
    "shark_data_unclean = pd.read_csv('data/Alex_Kinda_clean_data.csv', encoding = \"ISO-8859-1\")"
   ]
  },
  {
   "cell_type": "code",
   "execution_count": 211,
   "metadata": {},
   "outputs": [
    {
     "name": "stderr",
     "output_type": "stream",
     "text": [
      "C:\\Users\\joshu\\AppData\\Local\\Temp/ipykernel_19184/394909267.py:1: FutureWarning: In a future version of pandas all arguments of DataFrame.drop except for the argument 'labels' will be keyword-only\n",
      "  shark_data_unclean = shark_data_unclean.drop(\"Unnamed: 0\" , 1)\n"
     ]
    }
   ],
   "source": [
    "shark_data_unclean = shark_data_unclean.drop(\"Unnamed: 0\" , 1)\n",
    "shark_data_unclean['Age'] = pd.to_numeric(shark_data_unclean['Age'], errors='coerce')\n",
    "shark_data_unclean['Time'] = pd.to_numeric(shark_data_unclean['Time'], errors='coerce')\n",
    "shark_data_unclean = shark_data_unclean.dropna(subset=[\"Activity\"])"
   ]
  },
  {
   "cell_type": "code",
   "execution_count": 212,
   "metadata": {},
   "outputs": [
    {
     "data": {
      "text/plain": "Type\nUnprovoked    3696\nProvoked       440\ndtype: int64"
     },
     "execution_count": 212,
     "metadata": {},
     "output_type": "execute_result"
    }
   ],
   "source": [
    "shark_data_unclean.value_counts(\"Type\")"
   ]
  },
  {
   "cell_type": "code",
   "execution_count": 213,
   "metadata": {},
   "outputs": [],
   "source": [
    "shark_data_unclean = shark_data_unclean[shark_data_unclean[\"Activity\"] != \"nan\"]"
   ]
  },
  {
   "cell_type": "code",
   "execution_count": 214,
   "metadata": {},
   "outputs": [
    {
     "data": {
      "text/plain": "            Type  Activity            Sex   Age  \\\n0     Unprovoked   surfing               M    6   \n1     Unprovoked   surfing               M   31   \n2     Unprovoked  boarding               M   27   \n3     Unprovoked      fell               M   64   \n4     Unprovoked   surfing               M   41   \n...          ...       ...             ...  ...   \n4131  Unprovoked  floating               M   27   \n4132  Unprovoked   bathing               M   27   \n4133  Unprovoked  swimming               M   27   \n4134    Provoked         0  Not Determined   27   \n4135  Unprovoked         0               M   27   \n\n                                                 Injury Fatal (Y/N)    Time  \\\n0                             Minor injury to right arm           N  1320.0   \n1                                                 FATAL           Y  1030.0   \n2     Lacerations both sides of lower leg immediatel...           N  1145.0   \n3                                  Severe injury to leg           N  1400.0   \n4                            Left ankle and foot bitten           N   640.0   \n...                                                 ...         ...     ...   \n4131  Bathing suit torn & \"imprints of the shark's t...           N  1800.0   \n4132                                Left hand lacerated           N  1800.0   \n4133                                              FATAL           Y  9999.0   \n4134  No injury to occupants. They shot shark, then ...           N  9999.0   \n4135                       Right posterior thigh bitten           N  1200.0   \n\n            Species   Proper_date  \\\n0     Not Determined     20210909   \n1        White xhark     20210905   \n2     Not Determined     20210828   \n3     Not Determined     20210903   \n4         Bull shark     20210821   \n...              ...          ...   \n4131  Not Determined     19000905   \n4132  Not Determined     19000821   \n4133  Not Determined     19000731   \n4134  Not Determined     19875253   \n4135  Not Determined     19875253   \n\n                                          Full Location   latitude  \\\n0               USA Florida Ponce Inlet, Volusia County  29.096373   \n1               AUSTRALIA New South Wales Emerald Beach -30.157479   \n2          USA Texas Galveston Island, Galveston County  29.241005   \n3                          USA Louisiana off Grand Isle  29.236617   \n4       USA Florida Walton Beach Psrk, St. Lucie County  27.337890   \n...                                                 ...        ...   \n4131                     USA Hawaii Waikiki Beach, Oahu  21.279346   \n4132     USA North Carolina Southport, Brunswick County  33.918209   \n4133  CROATIA  Primorje-Gorski Kotar County Volosko,...  45.350000   \n4134       USA Connecticut Bridgeport, Fairfield County  41.179226   \n4135  AUSTRALIA New South Wales Lane Cove River, Syd... -33.782705   \n\n       longitude   avg_temp  precipitation  wind_speed  sea_level_pressure  \n0     -80.936998  26.100000       1.000000   16.200000         1012.500000  \n1     153.150195  13.600000       4.600000   20.400000         1017.300000  \n2     -94.909133  29.400000       2.500000   10.400000         1013.700000  \n3     -89.987294  27.200000       3.900000    5.100000         1014.600000  \n4     -80.233431  28.900000       0.200000   11.000000         1015.000000  \n...          ...        ...            ...         ...                 ...  \n4131 -157.829185  24.041156       9.165706   12.665634         1016.229106  \n4132  -78.019301  24.041156       9.165706   12.665634         1016.229106  \n4133   14.316667  24.041156       9.165706   12.665634         1016.229106  \n4134  -73.189438  24.041156       9.165706   12.665634         1016.229106  \n4135  151.140035  24.041156       9.165706   12.665634         1016.229106  \n\n[4136 rows x 16 columns]",
      "text/html": "<div>\n<style scoped>\n    .dataframe tbody tr th:only-of-type {\n        vertical-align: middle;\n    }\n\n    .dataframe tbody tr th {\n        vertical-align: top;\n    }\n\n    .dataframe thead th {\n        text-align: right;\n    }\n</style>\n<table border=\"1\" class=\"dataframe\">\n  <thead>\n    <tr style=\"text-align: right;\">\n      <th></th>\n      <th>Type</th>\n      <th>Activity</th>\n      <th>Sex</th>\n      <th>Age</th>\n      <th>Injury</th>\n      <th>Fatal (Y/N)</th>\n      <th>Time</th>\n      <th>Species</th>\n      <th>Proper_date</th>\n      <th>Full Location</th>\n      <th>latitude</th>\n      <th>longitude</th>\n      <th>avg_temp</th>\n      <th>precipitation</th>\n      <th>wind_speed</th>\n      <th>sea_level_pressure</th>\n    </tr>\n  </thead>\n  <tbody>\n    <tr>\n      <th>0</th>\n      <td>Unprovoked</td>\n      <td>surfing</td>\n      <td>M</td>\n      <td>6</td>\n      <td>Minor injury to right arm</td>\n      <td>N</td>\n      <td>1320.0</td>\n      <td>Not Determined</td>\n      <td>20210909</td>\n      <td>USA Florida Ponce Inlet, Volusia County</td>\n      <td>29.096373</td>\n      <td>-80.936998</td>\n      <td>26.100000</td>\n      <td>1.000000</td>\n      <td>16.200000</td>\n      <td>1012.500000</td>\n    </tr>\n    <tr>\n      <th>1</th>\n      <td>Unprovoked</td>\n      <td>surfing</td>\n      <td>M</td>\n      <td>31</td>\n      <td>FATAL</td>\n      <td>Y</td>\n      <td>1030.0</td>\n      <td>White xhark</td>\n      <td>20210905</td>\n      <td>AUSTRALIA New South Wales Emerald Beach</td>\n      <td>-30.157479</td>\n      <td>153.150195</td>\n      <td>13.600000</td>\n      <td>4.600000</td>\n      <td>20.400000</td>\n      <td>1017.300000</td>\n    </tr>\n    <tr>\n      <th>2</th>\n      <td>Unprovoked</td>\n      <td>boarding</td>\n      <td>M</td>\n      <td>27</td>\n      <td>Lacerations both sides of lower leg immediatel...</td>\n      <td>N</td>\n      <td>1145.0</td>\n      <td>Not Determined</td>\n      <td>20210828</td>\n      <td>USA Texas Galveston Island, Galveston County</td>\n      <td>29.241005</td>\n      <td>-94.909133</td>\n      <td>29.400000</td>\n      <td>2.500000</td>\n      <td>10.400000</td>\n      <td>1013.700000</td>\n    </tr>\n    <tr>\n      <th>3</th>\n      <td>Unprovoked</td>\n      <td>fell</td>\n      <td>M</td>\n      <td>64</td>\n      <td>Severe injury to leg</td>\n      <td>N</td>\n      <td>1400.0</td>\n      <td>Not Determined</td>\n      <td>20210903</td>\n      <td>USA Louisiana off Grand Isle</td>\n      <td>29.236617</td>\n      <td>-89.987294</td>\n      <td>27.200000</td>\n      <td>3.900000</td>\n      <td>5.100000</td>\n      <td>1014.600000</td>\n    </tr>\n    <tr>\n      <th>4</th>\n      <td>Unprovoked</td>\n      <td>surfing</td>\n      <td>M</td>\n      <td>41</td>\n      <td>Left ankle and foot bitten</td>\n      <td>N</td>\n      <td>640.0</td>\n      <td>Bull shark</td>\n      <td>20210821</td>\n      <td>USA Florida Walton Beach Psrk, St. Lucie County</td>\n      <td>27.337890</td>\n      <td>-80.233431</td>\n      <td>28.900000</td>\n      <td>0.200000</td>\n      <td>11.000000</td>\n      <td>1015.000000</td>\n    </tr>\n    <tr>\n      <th>...</th>\n      <td>...</td>\n      <td>...</td>\n      <td>...</td>\n      <td>...</td>\n      <td>...</td>\n      <td>...</td>\n      <td>...</td>\n      <td>...</td>\n      <td>...</td>\n      <td>...</td>\n      <td>...</td>\n      <td>...</td>\n      <td>...</td>\n      <td>...</td>\n      <td>...</td>\n      <td>...</td>\n    </tr>\n    <tr>\n      <th>4131</th>\n      <td>Unprovoked</td>\n      <td>floating</td>\n      <td>M</td>\n      <td>27</td>\n      <td>Bathing suit torn &amp; \"imprints of the shark's t...</td>\n      <td>N</td>\n      <td>1800.0</td>\n      <td>Not Determined</td>\n      <td>19000905</td>\n      <td>USA Hawaii Waikiki Beach, Oahu</td>\n      <td>21.279346</td>\n      <td>-157.829185</td>\n      <td>24.041156</td>\n      <td>9.165706</td>\n      <td>12.665634</td>\n      <td>1016.229106</td>\n    </tr>\n    <tr>\n      <th>4132</th>\n      <td>Unprovoked</td>\n      <td>bathing</td>\n      <td>M</td>\n      <td>27</td>\n      <td>Left hand lacerated</td>\n      <td>N</td>\n      <td>1800.0</td>\n      <td>Not Determined</td>\n      <td>19000821</td>\n      <td>USA North Carolina Southport, Brunswick County</td>\n      <td>33.918209</td>\n      <td>-78.019301</td>\n      <td>24.041156</td>\n      <td>9.165706</td>\n      <td>12.665634</td>\n      <td>1016.229106</td>\n    </tr>\n    <tr>\n      <th>4133</th>\n      <td>Unprovoked</td>\n      <td>swimming</td>\n      <td>M</td>\n      <td>27</td>\n      <td>FATAL</td>\n      <td>Y</td>\n      <td>9999.0</td>\n      <td>Not Determined</td>\n      <td>19000731</td>\n      <td>CROATIA  Primorje-Gorski Kotar County Volosko,...</td>\n      <td>45.350000</td>\n      <td>14.316667</td>\n      <td>24.041156</td>\n      <td>9.165706</td>\n      <td>12.665634</td>\n      <td>1016.229106</td>\n    </tr>\n    <tr>\n      <th>4134</th>\n      <td>Provoked</td>\n      <td>0</td>\n      <td>Not Determined</td>\n      <td>27</td>\n      <td>No injury to occupants. They shot shark, then ...</td>\n      <td>N</td>\n      <td>9999.0</td>\n      <td>Not Determined</td>\n      <td>19875253</td>\n      <td>USA Connecticut Bridgeport, Fairfield County</td>\n      <td>41.179226</td>\n      <td>-73.189438</td>\n      <td>24.041156</td>\n      <td>9.165706</td>\n      <td>12.665634</td>\n      <td>1016.229106</td>\n    </tr>\n    <tr>\n      <th>4135</th>\n      <td>Unprovoked</td>\n      <td>0</td>\n      <td>M</td>\n      <td>27</td>\n      <td>Right posterior thigh bitten</td>\n      <td>N</td>\n      <td>1200.0</td>\n      <td>Not Determined</td>\n      <td>19875253</td>\n      <td>AUSTRALIA New South Wales Lane Cove River, Syd...</td>\n      <td>-33.782705</td>\n      <td>151.140035</td>\n      <td>24.041156</td>\n      <td>9.165706</td>\n      <td>12.665634</td>\n      <td>1016.229106</td>\n    </tr>\n  </tbody>\n</table>\n<p>4136 rows × 16 columns</p>\n</div>"
     },
     "execution_count": 214,
     "metadata": {},
     "output_type": "execute_result"
    }
   ],
   "source": [
    "shark_data_unclean"
   ]
  },
  {
   "cell_type": "code",
   "execution_count": 215,
   "metadata": {},
   "outputs": [],
   "source": [
    "activity_df = shark_data_unclean.value_counts(\"Activity\").reset_index()"
   ]
  },
  {
   "cell_type": "code",
   "execution_count": 216,
   "metadata": {},
   "outputs": [],
   "source": [
    "activity_df = activity_df.iloc[:, 0]\n",
    "activity_list = activity_df.values.tolist()"
   ]
  },
  {
   "cell_type": "code",
   "execution_count": 217,
   "metadata": {},
   "outputs": [],
   "source": [
    "activity_dict = {}\n",
    "index = 0\n",
    "for item in activity_list:\n",
    "    activity_dict[item] = index\n",
    "    index += 1"
   ]
  },
  {
   "cell_type": "code",
   "execution_count": 218,
   "metadata": {},
   "outputs": [],
   "source": [
    "cur_index = 0\n",
    "for activity in shark_data_unclean[\"Activity\"]:\n",
    "    if activity in activity_dict:\n",
    "        shark_data_unclean.iloc[cur_index, 3] = activity_dict[activity]\n",
    "        cur_index += 1\n",
    "    else:\n",
    "        print(activity, \" : \", index)\n",
    "        shark_data_unclean = shark_data_unclean.drop(index=cur_index)"
   ]
  },
  {
   "cell_type": "code",
   "execution_count": 219,
   "metadata": {},
   "outputs": [],
   "source": [
    "#shark_data_unclean[\"Activity\"]\n",
    "#shark_data_unclean['code'] = shark_data_unclean.cc.cat.codes"
   ]
  },
  {
   "cell_type": "code",
   "execution_count": 220,
   "metadata": {},
   "outputs": [
    {
     "data": {
      "text/plain": "Index(['Type', 'Activity', 'Sex ', 'Age', 'Injury', 'Fatal (Y/N)', 'Time',\n       'Species ', 'Proper_date', 'Full Location', 'latitude', 'longitude',\n       'avg_temp', 'precipitation', 'wind_speed', 'sea_level_pressure'],\n      dtype='object')"
     },
     "execution_count": 220,
     "metadata": {},
     "output_type": "execute_result"
    }
   ],
   "source": [
    "shark_data_unclean.columns"
   ]
  },
  {
   "cell_type": "code",
   "execution_count": 221,
   "metadata": {},
   "outputs": [
    {
     "name": "stdout",
     "output_type": "stream",
     "text": [
      "<class 'pandas.core.frame.DataFrame'>\n",
      "Int64Index: 4135 entries, 0 to 4135\n",
      "Data columns (total 16 columns):\n",
      " #   Column              Non-Null Count  Dtype  \n",
      "---  ------              --------------  -----  \n",
      " 0   Type                4135 non-null   object \n",
      " 1   Activity            4135 non-null   int64  \n",
      " 2   Sex                 4135 non-null   int64  \n",
      " 3   Age                 4135 non-null   int64  \n",
      " 4   Injury              4135 non-null   int64  \n",
      " 5   Fatal (Y/N)         4135 non-null   int64  \n",
      " 6   Time                4135 non-null   float64\n",
      " 7   Species             4135 non-null   int64  \n",
      " 8   Proper_date         4135 non-null   int64  \n",
      " 9   Full Location       4135 non-null   int64  \n",
      " 10  latitude            4135 non-null   float64\n",
      " 11  longitude           4135 non-null   float64\n",
      " 12  avg_temp            4135 non-null   float64\n",
      " 13  precipitation       4135 non-null   float64\n",
      " 14  wind_speed          4135 non-null   float64\n",
      " 15  sea_level_pressure  4135 non-null   float64\n",
      "dtypes: float64(7), int64(8), object(1)\n",
      "memory usage: 549.2+ KB\n"
     ]
    },
    {
     "name": "stderr",
     "output_type": "stream",
     "text": [
      "C:\\Users\\joshu\\AppData\\Local\\Temp/ipykernel_19184/1048560306.py:4: SettingWithCopyWarning: \n",
      "A value is trying to be set on a copy of a slice from a DataFrame.\n",
      "Try using .loc[row_indexer,col_indexer] = value instead\n",
      "\n",
      "See the caveats in the documentation: https://pandas.pydata.org/pandas-docs/stable/user_guide/indexing.html#returning-a-view-versus-a-copy\n",
      "  shark_data_unclean['Type'] = shark_data_unclean['Type'].str.replace(\"Unprovoked\", '0')\n",
      "C:\\Users\\joshu\\AppData\\Local\\Temp/ipykernel_19184/1048560306.py:5: SettingWithCopyWarning: \n",
      "A value is trying to be set on a copy of a slice from a DataFrame.\n",
      "Try using .loc[row_indexer,col_indexer] = value instead\n",
      "\n",
      "See the caveats in the documentation: https://pandas.pydata.org/pandas-docs/stable/user_guide/indexing.html#returning-a-view-versus-a-copy\n",
      "  shark_data_unclean['Type'] = shark_data_unclean['Type'].str.replace(\"Provoked\", '1')\n",
      "C:\\Users\\joshu\\AppData\\Local\\Temp/ipykernel_19184/1048560306.py:7: SettingWithCopyWarning: \n",
      "A value is trying to be set on a copy of a slice from a DataFrame.\n",
      "Try using .loc[row_indexer,col_indexer] = value instead\n",
      "\n",
      "See the caveats in the documentation: https://pandas.pydata.org/pandas-docs/stable/user_guide/indexing.html#returning-a-view-versus-a-copy\n",
      "  shark_data_unclean['Activity'] = pd.factorize(shark_data_unclean['Activity'])[0]\n",
      "C:\\Users\\joshu\\AppData\\Local\\Temp/ipykernel_19184/1048560306.py:8: SettingWithCopyWarning: \n",
      "A value is trying to be set on a copy of a slice from a DataFrame.\n",
      "Try using .loc[row_indexer,col_indexer] = value instead\n",
      "\n",
      "See the caveats in the documentation: https://pandas.pydata.org/pandas-docs/stable/user_guide/indexing.html#returning-a-view-versus-a-copy\n",
      "  shark_data_unclean['Fatal (Y/N)'] = pd.factorize(shark_data_unclean['Fatal (Y/N)'])[0]\n",
      "C:\\Users\\joshu\\AppData\\Local\\Temp/ipykernel_19184/1048560306.py:9: SettingWithCopyWarning: \n",
      "A value is trying to be set on a copy of a slice from a DataFrame.\n",
      "Try using .loc[row_indexer,col_indexer] = value instead\n",
      "\n",
      "See the caveats in the documentation: https://pandas.pydata.org/pandas-docs/stable/user_guide/indexing.html#returning-a-view-versus-a-copy\n",
      "  shark_data_unclean['Sex '] = pd.factorize(shark_data_unclean['Sex '])[0]\n",
      "C:\\Users\\joshu\\AppData\\Local\\Temp/ipykernel_19184/1048560306.py:10: SettingWithCopyWarning: \n",
      "A value is trying to be set on a copy of a slice from a DataFrame.\n",
      "Try using .loc[row_indexer,col_indexer] = value instead\n",
      "\n",
      "See the caveats in the documentation: https://pandas.pydata.org/pandas-docs/stable/user_guide/indexing.html#returning-a-view-versus-a-copy\n",
      "  shark_data_unclean['Injury'] = pd.factorize(shark_data_unclean['Injury'])[0]\n",
      "C:\\Users\\joshu\\AppData\\Local\\Temp/ipykernel_19184/1048560306.py:11: SettingWithCopyWarning: \n",
      "A value is trying to be set on a copy of a slice from a DataFrame.\n",
      "Try using .loc[row_indexer,col_indexer] = value instead\n",
      "\n",
      "See the caveats in the documentation: https://pandas.pydata.org/pandas-docs/stable/user_guide/indexing.html#returning-a-view-versus-a-copy\n",
      "  shark_data_unclean['Species '] = pd.factorize(shark_data_unclean['Species '])[0]\n",
      "C:\\Users\\joshu\\AppData\\Local\\Temp/ipykernel_19184/1048560306.py:12: SettingWithCopyWarning: \n",
      "A value is trying to be set on a copy of a slice from a DataFrame.\n",
      "Try using .loc[row_indexer,col_indexer] = value instead\n",
      "\n",
      "See the caveats in the documentation: https://pandas.pydata.org/pandas-docs/stable/user_guide/indexing.html#returning-a-view-versus-a-copy\n",
      "  shark_data_unclean['Full Location'] = pd.factorize(shark_data_unclean['Full Location'])[0]\n"
     ]
    }
   ],
   "source": [
    "#shark_data_unclean = shark_data_unclean[[\"Type\", \"Activity\", \"Fatal (Y/N)\", \"Sex \"]]\n",
    "shark_data_unclean = shark_data_unclean.dropna()\n",
    "\n",
    "shark_data_unclean['Type'] = shark_data_unclean['Type'].str.replace(\"Unprovoked\", '0')\n",
    "shark_data_unclean['Type'] = shark_data_unclean['Type'].str.replace(\"Provoked\", '1')\n",
    "\n",
    "shark_data_unclean['Activity'] = pd.factorize(shark_data_unclean['Activity'])[0] \n",
    "shark_data_unclean['Fatal (Y/N)'] = pd.factorize(shark_data_unclean['Fatal (Y/N)'])[0] \n",
    "shark_data_unclean['Sex '] = pd.factorize(shark_data_unclean['Sex '])[0] \n",
    "shark_data_unclean['Injury'] = pd.factorize(shark_data_unclean['Injury'])[0] \n",
    "shark_data_unclean['Species '] = pd.factorize(shark_data_unclean['Species '])[0] \n",
    "shark_data_unclean['Full Location'] = pd.factorize(shark_data_unclean['Full Location'])[0] \n",
    "\n",
    "#shark_data_unclean['wind_speed'] = pd.factorize(shark_data_unclean['wind_speed'])[0] \n",
    "\n",
    "#shark_data_unclean['Time'] = pd.factorize(shark_data_unclean['Time'])[0] \n",
    "#shark_data_unclean['Age'] = pd.factorize(shark_data_unclean['Age'])[0] \n",
    "#shark_data_unclean['sea_level_pressure'] = pd.factorize(shark_data_unclean['sea_level_pressure'])[0] \n",
    "\n",
    "shark_data_unclean.info()"
   ]
  },
  {
   "cell_type": "code",
   "execution_count": 222,
   "metadata": {},
   "outputs": [
    {
     "data": {
      "text/plain": "Activity\n0      1060\n3       724\n7       311\n14      304\n17      273\n       ... \n110       1\n109       1\n40        1\n42        1\n185       1\nLength: 186, dtype: int64"
     },
     "execution_count": 222,
     "metadata": {},
     "output_type": "execute_result"
    }
   ],
   "source": [
    "shark_data_unclean.value_counts(\"Activity\")"
   ]
  },
  {
   "cell_type": "code",
   "execution_count": 222,
   "outputs": [],
   "source": [],
   "metadata": {
    "collapsed": false,
    "pycharm": {
     "name": "#%%\n"
    }
   }
  },
  {
   "cell_type": "code",
   "execution_count": 223,
   "outputs": [
    {
     "data": {
      "text/plain": "  Type  Activity  Sex   Age  Injury  Fatal (Y/N)    Time  Species   \\\n0    0         0     0    0       0            0  1320.0         0   \n1    0         0     0    0       1            1  1030.0         1   \n2    0         1     0    8       2            0  1145.0         0   \n3    0         2     0   14       3            0  1400.0         0   \n4    0         0     0    0       4            0   640.0         2   \n\n   Proper_date  Full Location   latitude   longitude  avg_temp  precipitation  \\\n0     20210909              0  29.096373  -80.936998      26.1            1.0   \n1     20210905              1 -30.157479  153.150195      13.6            4.6   \n2     20210828              2  29.241005  -94.909133      29.4            2.5   \n3     20210903              3  29.236617  -89.987294      27.2            3.9   \n4     20210821              4  27.337890  -80.233431      28.9            0.2   \n\n   wind_speed  sea_level_pressure  \n0        16.2              1012.5  \n1        20.4              1017.3  \n2        10.4              1013.7  \n3         5.1              1014.6  \n4        11.0              1015.0  ",
      "text/html": "<div>\n<style scoped>\n    .dataframe tbody tr th:only-of-type {\n        vertical-align: middle;\n    }\n\n    .dataframe tbody tr th {\n        vertical-align: top;\n    }\n\n    .dataframe thead th {\n        text-align: right;\n    }\n</style>\n<table border=\"1\" class=\"dataframe\">\n  <thead>\n    <tr style=\"text-align: right;\">\n      <th></th>\n      <th>Type</th>\n      <th>Activity</th>\n      <th>Sex</th>\n      <th>Age</th>\n      <th>Injury</th>\n      <th>Fatal (Y/N)</th>\n      <th>Time</th>\n      <th>Species</th>\n      <th>Proper_date</th>\n      <th>Full Location</th>\n      <th>latitude</th>\n      <th>longitude</th>\n      <th>avg_temp</th>\n      <th>precipitation</th>\n      <th>wind_speed</th>\n      <th>sea_level_pressure</th>\n    </tr>\n  </thead>\n  <tbody>\n    <tr>\n      <th>0</th>\n      <td>0</td>\n      <td>0</td>\n      <td>0</td>\n      <td>0</td>\n      <td>0</td>\n      <td>0</td>\n      <td>1320.0</td>\n      <td>0</td>\n      <td>20210909</td>\n      <td>0</td>\n      <td>29.096373</td>\n      <td>-80.936998</td>\n      <td>26.1</td>\n      <td>1.0</td>\n      <td>16.2</td>\n      <td>1012.5</td>\n    </tr>\n    <tr>\n      <th>1</th>\n      <td>0</td>\n      <td>0</td>\n      <td>0</td>\n      <td>0</td>\n      <td>1</td>\n      <td>1</td>\n      <td>1030.0</td>\n      <td>1</td>\n      <td>20210905</td>\n      <td>1</td>\n      <td>-30.157479</td>\n      <td>153.150195</td>\n      <td>13.6</td>\n      <td>4.6</td>\n      <td>20.4</td>\n      <td>1017.3</td>\n    </tr>\n    <tr>\n      <th>2</th>\n      <td>0</td>\n      <td>1</td>\n      <td>0</td>\n      <td>8</td>\n      <td>2</td>\n      <td>0</td>\n      <td>1145.0</td>\n      <td>0</td>\n      <td>20210828</td>\n      <td>2</td>\n      <td>29.241005</td>\n      <td>-94.909133</td>\n      <td>29.4</td>\n      <td>2.5</td>\n      <td>10.4</td>\n      <td>1013.7</td>\n    </tr>\n    <tr>\n      <th>3</th>\n      <td>0</td>\n      <td>2</td>\n      <td>0</td>\n      <td>14</td>\n      <td>3</td>\n      <td>0</td>\n      <td>1400.0</td>\n      <td>0</td>\n      <td>20210903</td>\n      <td>3</td>\n      <td>29.236617</td>\n      <td>-89.987294</td>\n      <td>27.2</td>\n      <td>3.9</td>\n      <td>5.1</td>\n      <td>1014.6</td>\n    </tr>\n    <tr>\n      <th>4</th>\n      <td>0</td>\n      <td>0</td>\n      <td>0</td>\n      <td>0</td>\n      <td>4</td>\n      <td>0</td>\n      <td>640.0</td>\n      <td>2</td>\n      <td>20210821</td>\n      <td>4</td>\n      <td>27.337890</td>\n      <td>-80.233431</td>\n      <td>28.9</td>\n      <td>0.2</td>\n      <td>11.0</td>\n      <td>1015.0</td>\n    </tr>\n  </tbody>\n</table>\n</div>"
     },
     "execution_count": 223,
     "metadata": {},
     "output_type": "execute_result"
    }
   ],
   "source": [
    "shark_data_unclean.head()"
   ],
   "metadata": {
    "collapsed": false,
    "pycharm": {
     "name": "#%%\n"
    }
   }
  },
  {
   "cell_type": "code",
   "execution_count": 224,
   "metadata": {},
   "outputs": [],
   "source": [
    "from sklearn.preprocessing import MinMaxScaler\n",
    "\n",
    "df = shark_data_unclean.copy(deep=True)\n",
    "X = df.drop(\"Type\", axis=1)\n",
    "y = df[\"Type\"]"
   ]
  },
  {
   "cell_type": "code",
   "execution_count": 226,
   "metadata": {},
   "outputs": [
    {
     "name": "stdout",
     "output_type": "stream",
     "text": [
      "1\n",
      "              precision    recall  f1-score   support\n",
      "\n",
      "  Unprovoked       0.93      0.99      0.96      1109\n",
      "    Provoked       0.88      0.33      0.48       132\n",
      "\n",
      "    accuracy                           0.92      1241\n",
      "   macro avg       0.90      0.66      0.72      1241\n",
      "weighted avg       0.92      0.92      0.91      1241\n",
      "\n",
      "Avg unprovoked precision:  0.9258657547780464\n",
      "Avg provoked precision:  0.8201314424074715\n"
     ]
    }
   ],
   "source": [
    "from sklearn.metrics import classification_report\n",
    "from sklearn.model_selection import train_test_split\n",
    "from sklearn.tree import DecisionTreeClassifier\n",
    "\n",
    "total_precision_un = 0\n",
    "total_precision_p = 0\n",
    "num_times = 2\n",
    "\n",
    "for i in range(num_times):\n",
    "    X_train, X_test, y_train, y_test = train_test_split(X, y, test_size=0.3, stratify=y)\n",
    "    \n",
    "    tree_clf = DecisionTreeClassifier(max_depth=3, criterion=\"gini\", random_state=42)\n",
    "    tree_clf.fit(X_train, y_train)\n",
    "\n",
    "    y_pred = tree_clf.predict(X_test)\n",
    "\n",
    "    target_names = ['Unprovoked', 'Provoked']\n",
    "    column_names = df.drop(['Type'], axis=1).columns\n",
    "\n",
    "    result_metrics = classification_report(y_test, y_pred, target_names=target_names, output_dict = True)\n",
    "    total_precision_un += result_metrics[\"Unprovoked\"][\"precision\"]\n",
    "    total_precision_p += result_metrics[\"Provoked\"][\"precision\"]\n",
    "\n",
    "result_metrics = classification_report(y_test, y_pred, target_names=target_names)\n",
    "print(i)\n",
    "print(result_metrics)\n",
    "print(\"Avg unprovoked precision: \", total_precision_un / num_times)\n",
    "print(\"Avg provoked precision: \", total_precision_p / num_times)\n"
   ]
  },
  {
   "cell_type": "code",
   "execution_count": 199,
   "metadata": {
    "scrolled": false
   },
   "outputs": [
    {
     "data": {
      "image/svg+xml": "<?xml version=\"1.0\" encoding=\"UTF-8\" standalone=\"no\"?>\n<!DOCTYPE svg PUBLIC \"-//W3C//DTD SVG 1.1//EN\"\n \"http://www.w3.org/Graphics/SVG/1.1/DTD/svg11.dtd\">\n<!-- Generated by graphviz version 2.49.3 (20211023.0002)\n -->\n<!-- Title: Tree Pages: 1 -->\n<svg width=\"920pt\" height=\"433pt\"\n viewBox=\"0.00 0.00 920.00 433.00\" xmlns=\"http://www.w3.org/2000/svg\" xmlns:xlink=\"http://www.w3.org/1999/xlink\">\n<g id=\"graph0\" class=\"graph\" transform=\"scale(1 1) rotate(0) translate(4 429)\">\n<title>Tree</title>\n<polygon fill=\"white\" stroke=\"transparent\" points=\"-4,4 -4,-429 916,-429 916,4 -4,4\"/>\n<!-- 0 -->\n<g id=\"node1\" class=\"node\">\n<title>0</title>\n<path fill=\"#e89051\" stroke=\"black\" d=\"M511,-425C511,-425 393,-425 393,-425 387,-425 381,-419 381,-413 381,-413 381,-354 381,-354 381,-348 387,-342 393,-342 393,-342 511,-342 511,-342 517,-342 523,-348 523,-354 523,-354 523,-413 523,-413 523,-419 517,-425 511,-425\"/>\n<text text-anchor=\"middle\" x=\"452\" y=\"-409.8\" font-family=\"Helvetica,sans-Serif\" font-size=\"14.00\">Activity &lt;= 6.5</text>\n<text text-anchor=\"middle\" x=\"452\" y=\"-394.8\" font-family=\"Helvetica,sans-Serif\" font-size=\"14.00\">gini = 0.19</text>\n<text text-anchor=\"middle\" x=\"452\" y=\"-379.8\" font-family=\"Helvetica,sans-Serif\" font-size=\"14.00\">samples = 2894</text>\n<text text-anchor=\"middle\" x=\"452\" y=\"-364.8\" font-family=\"Helvetica,sans-Serif\" font-size=\"14.00\">value = [2586, 308]</text>\n<text text-anchor=\"middle\" x=\"452\" y=\"-349.8\" font-family=\"Helvetica,sans-Serif\" font-size=\"14.00\">class = Unprovoked</text>\n</g>\n<!-- 1 -->\n<g id=\"node2\" class=\"node\">\n<title>1</title>\n<path fill=\"#e6843e\" stroke=\"black\" d=\"M431,-306C431,-306 313,-306 313,-306 307,-306 301,-300 301,-294 301,-294 301,-235 301,-235 301,-229 307,-223 313,-223 313,-223 431,-223 431,-223 437,-223 443,-229 443,-235 443,-235 443,-294 443,-294 443,-300 437,-306 431,-306\"/>\n<text text-anchor=\"middle\" x=\"372\" y=\"-290.8\" font-family=\"Helvetica,sans-Serif\" font-size=\"14.00\">Age &lt;= 69.0</text>\n<text text-anchor=\"middle\" x=\"372\" y=\"-275.8\" font-family=\"Helvetica,sans-Serif\" font-size=\"14.00\">gini = 0.047</text>\n<text text-anchor=\"middle\" x=\"372\" y=\"-260.8\" font-family=\"Helvetica,sans-Serif\" font-size=\"14.00\">samples = 1590</text>\n<text text-anchor=\"middle\" x=\"372\" y=\"-245.8\" font-family=\"Helvetica,sans-Serif\" font-size=\"14.00\">value = [1552, 38]</text>\n<text text-anchor=\"middle\" x=\"372\" y=\"-230.8\" font-family=\"Helvetica,sans-Serif\" font-size=\"14.00\">class = Unprovoked</text>\n</g>\n<!-- 0&#45;&gt;1 -->\n<g id=\"edge1\" class=\"edge\">\n<title>0&#45;&gt;1</title>\n<path fill=\"none\" stroke=\"black\" d=\"M424.24,-341.91C418.16,-333.01 411.66,-323.51 405.39,-314.33\"/>\n<polygon fill=\"black\" stroke=\"black\" points=\"408.24,-312.3 399.71,-306.02 402.46,-316.25 408.24,-312.3\"/>\n<text text-anchor=\"middle\" x=\"395.09\" y=\"-326.89\" font-family=\"Helvetica,sans-Serif\" font-size=\"14.00\">True</text>\n</g>\n<!-- 6 -->\n<g id=\"node7\" class=\"node\">\n<title>6</title>\n<path fill=\"#eca26d\" stroke=\"black\" d=\"M591,-306C591,-306 473,-306 473,-306 467,-306 461,-300 461,-294 461,-294 461,-235 461,-235 461,-229 467,-223 473,-223 473,-223 591,-223 591,-223 597,-223 603,-229 603,-235 603,-235 603,-294 603,-294 603,-300 597,-306 591,-306\"/>\n<text text-anchor=\"middle\" x=\"532\" y=\"-290.8\" font-family=\"Helvetica,sans-Serif\" font-size=\"14.00\">Age &lt;= 2.5</text>\n<text text-anchor=\"middle\" x=\"532\" y=\"-275.8\" font-family=\"Helvetica,sans-Serif\" font-size=\"14.00\">gini = 0.328</text>\n<text text-anchor=\"middle\" x=\"532\" y=\"-260.8\" font-family=\"Helvetica,sans-Serif\" font-size=\"14.00\">samples = 1304</text>\n<text text-anchor=\"middle\" x=\"532\" y=\"-245.8\" font-family=\"Helvetica,sans-Serif\" font-size=\"14.00\">value = [1034, 270]</text>\n<text text-anchor=\"middle\" x=\"532\" y=\"-230.8\" font-family=\"Helvetica,sans-Serif\" font-size=\"14.00\">class = Unprovoked</text>\n</g>\n<!-- 0&#45;&gt;6 -->\n<g id=\"edge6\" class=\"edge\">\n<title>0&#45;&gt;6</title>\n<path fill=\"none\" stroke=\"black\" d=\"M479.76,-341.91C485.84,-333.01 492.34,-323.51 498.61,-314.33\"/>\n<polygon fill=\"black\" stroke=\"black\" points=\"501.54,-316.25 504.29,-306.02 495.76,-312.3 501.54,-316.25\"/>\n<text text-anchor=\"middle\" x=\"508.91\" y=\"-326.89\" font-family=\"Helvetica,sans-Serif\" font-size=\"14.00\">False</text>\n</g>\n<!-- 2 -->\n<g id=\"node3\" class=\"node\">\n<title>2</title>\n<path fill=\"#e6843e\" stroke=\"black\" d=\"M280,-187C280,-187 148,-187 148,-187 142,-187 136,-181 136,-175 136,-175 136,-116 136,-116 136,-110 142,-104 148,-104 148,-104 280,-104 280,-104 286,-104 292,-110 292,-116 292,-116 292,-175 292,-175 292,-181 286,-187 280,-187\"/>\n<text text-anchor=\"middle\" x=\"214\" y=\"-171.8\" font-family=\"Helvetica,sans-Serif\" font-size=\"14.00\">longitude &lt;= &#45;172.872</text>\n<text text-anchor=\"middle\" x=\"214\" y=\"-156.8\" font-family=\"Helvetica,sans-Serif\" font-size=\"14.00\">gini = 0.045</text>\n<text text-anchor=\"middle\" x=\"214\" y=\"-141.8\" font-family=\"Helvetica,sans-Serif\" font-size=\"14.00\">samples = 1589</text>\n<text text-anchor=\"middle\" x=\"214\" y=\"-126.8\" font-family=\"Helvetica,sans-Serif\" font-size=\"14.00\">value = [1552, 37]</text>\n<text text-anchor=\"middle\" x=\"214\" y=\"-111.8\" font-family=\"Helvetica,sans-Serif\" font-size=\"14.00\">class = Unprovoked</text>\n</g>\n<!-- 1&#45;&gt;2 -->\n<g id=\"edge2\" class=\"edge\">\n<title>1&#45;&gt;2</title>\n<path fill=\"none\" stroke=\"black\" d=\"M317.18,-222.91C304.19,-213.29 290.24,-202.95 276.92,-193.09\"/>\n<polygon fill=\"black\" stroke=\"black\" points=\"278.84,-190.16 268.72,-187.02 274.67,-195.78 278.84,-190.16\"/>\n</g>\n<!-- 5 -->\n<g id=\"node6\" class=\"node\">\n<title>5</title>\n<path fill=\"#399de5\" stroke=\"black\" d=\"M424,-179.5C424,-179.5 322,-179.5 322,-179.5 316,-179.5 310,-173.5 310,-167.5 310,-167.5 310,-123.5 310,-123.5 310,-117.5 316,-111.5 322,-111.5 322,-111.5 424,-111.5 424,-111.5 430,-111.5 436,-117.5 436,-123.5 436,-123.5 436,-167.5 436,-167.5 436,-173.5 430,-179.5 424,-179.5\"/>\n<text text-anchor=\"middle\" x=\"373\" y=\"-164.3\" font-family=\"Helvetica,sans-Serif\" font-size=\"14.00\">gini = 0.0</text>\n<text text-anchor=\"middle\" x=\"373\" y=\"-149.3\" font-family=\"Helvetica,sans-Serif\" font-size=\"14.00\">samples = 1</text>\n<text text-anchor=\"middle\" x=\"373\" y=\"-134.3\" font-family=\"Helvetica,sans-Serif\" font-size=\"14.00\">value = [0, 1]</text>\n<text text-anchor=\"middle\" x=\"373\" y=\"-119.3\" font-family=\"Helvetica,sans-Serif\" font-size=\"14.00\">class = Provoked</text>\n</g>\n<!-- 1&#45;&gt;5 -->\n<g id=\"edge5\" class=\"edge\">\n<title>1&#45;&gt;5</title>\n<path fill=\"none\" stroke=\"black\" d=\"M372.35,-222.91C372.44,-212.2 372.54,-200.62 372.63,-189.78\"/>\n<polygon fill=\"black\" stroke=\"black\" points=\"376.13,-189.7 372.72,-179.67 369.13,-189.64 376.13,-189.7\"/>\n</g>\n<!-- 3 -->\n<g id=\"node4\" class=\"node\">\n<title>3</title>\n<path fill=\"#399de5\" stroke=\"black\" d=\"M114,-68C114,-68 12,-68 12,-68 6,-68 0,-62 0,-56 0,-56 0,-12 0,-12 0,-6 6,0 12,0 12,0 114,0 114,0 120,0 126,-6 126,-12 126,-12 126,-56 126,-56 126,-62 120,-68 114,-68\"/>\n<text text-anchor=\"middle\" x=\"63\" y=\"-52.8\" font-family=\"Helvetica,sans-Serif\" font-size=\"14.00\">gini = 0.0</text>\n<text text-anchor=\"middle\" x=\"63\" y=\"-37.8\" font-family=\"Helvetica,sans-Serif\" font-size=\"14.00\">samples = 1</text>\n<text text-anchor=\"middle\" x=\"63\" y=\"-22.8\" font-family=\"Helvetica,sans-Serif\" font-size=\"14.00\">value = [0, 1]</text>\n<text text-anchor=\"middle\" x=\"63\" y=\"-7.8\" font-family=\"Helvetica,sans-Serif\" font-size=\"14.00\">class = Provoked</text>\n</g>\n<!-- 2&#45;&gt;3 -->\n<g id=\"edge3\" class=\"edge\">\n<title>2&#45;&gt;3</title>\n<path fill=\"none\" stroke=\"black\" d=\"M157.77,-103.73C144.44,-94.06 130.25,-83.77 117.02,-74.17\"/>\n<polygon fill=\"black\" stroke=\"black\" points=\"119.07,-71.34 108.92,-68.3 114.96,-77 119.07,-71.34\"/>\n</g>\n<!-- 4 -->\n<g id=\"node5\" class=\"node\">\n<title>4</title>\n<path fill=\"#e6843e\" stroke=\"black\" d=\"M274,-68C274,-68 156,-68 156,-68 150,-68 144,-62 144,-56 144,-56 144,-12 144,-12 144,-6 150,0 156,0 156,0 274,0 274,0 280,0 286,-6 286,-12 286,-12 286,-56 286,-56 286,-62 280,-68 274,-68\"/>\n<text text-anchor=\"middle\" x=\"215\" y=\"-52.8\" font-family=\"Helvetica,sans-Serif\" font-size=\"14.00\">gini = 0.044</text>\n<text text-anchor=\"middle\" x=\"215\" y=\"-37.8\" font-family=\"Helvetica,sans-Serif\" font-size=\"14.00\">samples = 1588</text>\n<text text-anchor=\"middle\" x=\"215\" y=\"-22.8\" font-family=\"Helvetica,sans-Serif\" font-size=\"14.00\">value = [1552, 36]</text>\n<text text-anchor=\"middle\" x=\"215\" y=\"-7.8\" font-family=\"Helvetica,sans-Serif\" font-size=\"14.00\">class = Unprovoked</text>\n</g>\n<!-- 2&#45;&gt;4 -->\n<g id=\"edge4\" class=\"edge\">\n<title>2&#45;&gt;4</title>\n<path fill=\"none\" stroke=\"black\" d=\"M214.37,-103.73C214.45,-95.52 214.53,-86.86 214.6,-78.56\"/>\n<polygon fill=\"black\" stroke=\"black\" points=\"218.1,-78.33 214.7,-68.3 211.1,-78.27 218.1,-78.33\"/>\n</g>\n<!-- 7 -->\n<g id=\"node8\" class=\"node\">\n<title>7</title>\n<path fill=\"#b7dcf6\" stroke=\"black\" d=\"M580,-187C580,-187 478,-187 478,-187 472,-187 466,-181 466,-175 466,-175 466,-116 466,-116 466,-110 472,-104 478,-104 478,-104 580,-104 580,-104 586,-104 592,-110 592,-116 592,-116 592,-175 592,-175 592,-181 586,-187 580,-187\"/>\n<text text-anchor=\"middle\" x=\"529\" y=\"-171.8\" font-family=\"Helvetica,sans-Serif\" font-size=\"14.00\">Species &#160;&lt;= 24.5</text>\n<text text-anchor=\"middle\" x=\"529\" y=\"-156.8\" font-family=\"Helvetica,sans-Serif\" font-size=\"14.00\">gini = 0.476</text>\n<text text-anchor=\"middle\" x=\"529\" y=\"-141.8\" font-family=\"Helvetica,sans-Serif\" font-size=\"14.00\">samples = 213</text>\n<text text-anchor=\"middle\" x=\"529\" y=\"-126.8\" font-family=\"Helvetica,sans-Serif\" font-size=\"14.00\">value = [83, 130]</text>\n<text text-anchor=\"middle\" x=\"529\" y=\"-111.8\" font-family=\"Helvetica,sans-Serif\" font-size=\"14.00\">class = Provoked</text>\n</g>\n<!-- 6&#45;&gt;7 -->\n<g id=\"edge7\" class=\"edge\">\n<title>6&#45;&gt;7</title>\n<path fill=\"none\" stroke=\"black\" d=\"M530.96,-222.91C530.75,-214.56 530.52,-205.67 530.3,-197.02\"/>\n<polygon fill=\"black\" stroke=\"black\" points=\"533.79,-196.93 530.04,-187.02 526.8,-197.11 533.79,-196.93\"/>\n</g>\n<!-- 10 -->\n<g id=\"node11\" class=\"node\">\n<title>10</title>\n<path fill=\"#e99456\" stroke=\"black\" d=\"M740,-187C740,-187 622,-187 622,-187 616,-187 610,-181 610,-175 610,-175 610,-116 610,-116 610,-110 616,-104 622,-104 622,-104 740,-104 740,-104 746,-104 752,-110 752,-116 752,-116 752,-175 752,-175 752,-181 746,-187 740,-187\"/>\n<text text-anchor=\"middle\" x=\"681\" y=\"-171.8\" font-family=\"Helvetica,sans-Serif\" font-size=\"14.00\">Age &lt;= 29.5</text>\n<text text-anchor=\"middle\" x=\"681\" y=\"-156.8\" font-family=\"Helvetica,sans-Serif\" font-size=\"14.00\">gini = 0.224</text>\n<text text-anchor=\"middle\" x=\"681\" y=\"-141.8\" font-family=\"Helvetica,sans-Serif\" font-size=\"14.00\">samples = 1091</text>\n<text text-anchor=\"middle\" x=\"681\" y=\"-126.8\" font-family=\"Helvetica,sans-Serif\" font-size=\"14.00\">value = [951, 140]</text>\n<text text-anchor=\"middle\" x=\"681\" y=\"-111.8\" font-family=\"Helvetica,sans-Serif\" font-size=\"14.00\">class = Unprovoked</text>\n</g>\n<!-- 6&#45;&gt;10 -->\n<g id=\"edge10\" class=\"edge\">\n<title>6&#45;&gt;10</title>\n<path fill=\"none\" stroke=\"black\" d=\"M583.69,-222.91C595.83,-213.38 608.86,-203.15 621.31,-193.37\"/>\n<polygon fill=\"black\" stroke=\"black\" points=\"623.69,-195.95 629.4,-187.02 619.37,-190.44 623.69,-195.95\"/>\n</g>\n<!-- 8 -->\n<g id=\"node9\" class=\"node\">\n<title>8</title>\n<path fill=\"#f4c9ab\" stroke=\"black\" d=\"M436,-68C436,-68 318,-68 318,-68 312,-68 306,-62 306,-56 306,-56 306,-12 306,-12 306,-6 312,0 318,0 318,0 436,0 436,0 442,0 448,-6 448,-12 448,-12 448,-56 448,-56 448,-62 442,-68 436,-68\"/>\n<text text-anchor=\"middle\" x=\"377\" y=\"-52.8\" font-family=\"Helvetica,sans-Serif\" font-size=\"14.00\">gini = 0.463</text>\n<text text-anchor=\"middle\" x=\"377\" y=\"-37.8\" font-family=\"Helvetica,sans-Serif\" font-size=\"14.00\">samples = 85</text>\n<text text-anchor=\"middle\" x=\"377\" y=\"-22.8\" font-family=\"Helvetica,sans-Serif\" font-size=\"14.00\">value = [54, 31]</text>\n<text text-anchor=\"middle\" x=\"377\" y=\"-7.8\" font-family=\"Helvetica,sans-Serif\" font-size=\"14.00\">class = Unprovoked</text>\n</g>\n<!-- 7&#45;&gt;8 -->\n<g id=\"edge8\" class=\"edge\">\n<title>7&#45;&gt;8</title>\n<path fill=\"none\" stroke=\"black\" d=\"M472.4,-103.73C458.98,-94.06 444.69,-83.77 431.38,-74.17\"/>\n<polygon fill=\"black\" stroke=\"black\" points=\"433.38,-71.3 423.22,-68.3 429.29,-76.98 433.38,-71.3\"/>\n</g>\n<!-- 9 -->\n<g id=\"node10\" class=\"node\">\n<title>9</title>\n<path fill=\"#73baed\" stroke=\"black\" d=\"M580,-68C580,-68 478,-68 478,-68 472,-68 466,-62 466,-56 466,-56 466,-12 466,-12 466,-6 472,0 478,0 478,0 580,0 580,0 586,0 592,-6 592,-12 592,-12 592,-56 592,-56 592,-62 586,-68 580,-68\"/>\n<text text-anchor=\"middle\" x=\"529\" y=\"-52.8\" font-family=\"Helvetica,sans-Serif\" font-size=\"14.00\">gini = 0.35</text>\n<text text-anchor=\"middle\" x=\"529\" y=\"-37.8\" font-family=\"Helvetica,sans-Serif\" font-size=\"14.00\">samples = 128</text>\n<text text-anchor=\"middle\" x=\"529\" y=\"-22.8\" font-family=\"Helvetica,sans-Serif\" font-size=\"14.00\">value = [29, 99]</text>\n<text text-anchor=\"middle\" x=\"529\" y=\"-7.8\" font-family=\"Helvetica,sans-Serif\" font-size=\"14.00\">class = Provoked</text>\n</g>\n<!-- 7&#45;&gt;9 -->\n<g id=\"edge9\" class=\"edge\">\n<title>7&#45;&gt;9</title>\n<path fill=\"none\" stroke=\"black\" d=\"M529,-103.73C529,-95.52 529,-86.86 529,-78.56\"/>\n<polygon fill=\"black\" stroke=\"black\" points=\"532.5,-78.3 529,-68.3 525.5,-78.3 532.5,-78.3\"/>\n</g>\n<!-- 11 -->\n<g id=\"node12\" class=\"node\">\n<title>11</title>\n<path fill=\"#e78d4b\" stroke=\"black\" d=\"M740,-68C740,-68 622,-68 622,-68 616,-68 610,-62 610,-56 610,-56 610,-12 610,-12 610,-6 616,0 622,0 622,0 740,0 740,0 746,0 752,-6 752,-12 752,-12 752,-56 752,-56 752,-62 746,-68 740,-68\"/>\n<text text-anchor=\"middle\" x=\"681\" y=\"-52.8\" font-family=\"Helvetica,sans-Serif\" font-size=\"14.00\">gini = 0.154</text>\n<text text-anchor=\"middle\" x=\"681\" y=\"-37.8\" font-family=\"Helvetica,sans-Serif\" font-size=\"14.00\">samples = 913</text>\n<text text-anchor=\"middle\" x=\"681\" y=\"-22.8\" font-family=\"Helvetica,sans-Serif\" font-size=\"14.00\">value = [836, 77]</text>\n<text text-anchor=\"middle\" x=\"681\" y=\"-7.8\" font-family=\"Helvetica,sans-Serif\" font-size=\"14.00\">class = Unprovoked</text>\n</g>\n<!-- 10&#45;&gt;11 -->\n<g id=\"edge11\" class=\"edge\">\n<title>10&#45;&gt;11</title>\n<path fill=\"none\" stroke=\"black\" d=\"M681,-103.73C681,-95.52 681,-86.86 681,-78.56\"/>\n<polygon fill=\"black\" stroke=\"black\" points=\"684.5,-78.3 681,-68.3 677.5,-78.3 684.5,-78.3\"/>\n</g>\n<!-- 12 -->\n<g id=\"node13\" class=\"node\">\n<title>12</title>\n<path fill=\"#f3c6a5\" stroke=\"black\" d=\"M900,-68C900,-68 782,-68 782,-68 776,-68 770,-62 770,-56 770,-56 770,-12 770,-12 770,-6 776,0 782,0 782,0 900,0 900,0 906,0 912,-6 912,-12 912,-12 912,-56 912,-56 912,-62 906,-68 900,-68\"/>\n<text text-anchor=\"middle\" x=\"841\" y=\"-52.8\" font-family=\"Helvetica,sans-Serif\" font-size=\"14.00\">gini = 0.457</text>\n<text text-anchor=\"middle\" x=\"841\" y=\"-37.8\" font-family=\"Helvetica,sans-Serif\" font-size=\"14.00\">samples = 178</text>\n<text text-anchor=\"middle\" x=\"841\" y=\"-22.8\" font-family=\"Helvetica,sans-Serif\" font-size=\"14.00\">value = [115, 63]</text>\n<text text-anchor=\"middle\" x=\"841\" y=\"-7.8\" font-family=\"Helvetica,sans-Serif\" font-size=\"14.00\">class = Unprovoked</text>\n</g>\n<!-- 10&#45;&gt;12 -->\n<g id=\"edge12\" class=\"edge\">\n<title>10&#45;&gt;12</title>\n<path fill=\"none\" stroke=\"black\" d=\"M740.58,-103.73C754.78,-94.01 769.9,-83.66 783.98,-74.02\"/>\n<polygon fill=\"black\" stroke=\"black\" points=\"786.32,-76.66 792.6,-68.13 782.37,-70.88 786.32,-76.66\"/>\n</g>\n</g>\n</svg>\n",
      "text/plain": "<graphviz.sources.Source at 0x18e2ddce760>"
     },
     "execution_count": 199,
     "metadata": {},
     "output_type": "execute_result"
    }
   ],
   "source": [
    "from graphviz import Source\n",
    "from sklearn.tree import export_graphviz\n",
    "\n",
    "export_graphviz(\n",
    "        tree_clf,\n",
    "        out_file=\"shark_attack_tree.dot\",\n",
    "        feature_names=column_names,\n",
    "        class_names=target_names,\n",
    "        rounded=True,\n",
    "        filled=True\n",
    "    )\n",
    "\n",
    "Source.from_file(\"shark_attack_tree.dot\")\n",
    "#Following command must be ran in a command prompt inside SharkAttackAnalysis folder & converts .dot to .png\n",
    "#dot -Tpng shark_attack_tree.dot -o shark_attack_tree.png"
   ]
  },
  {
   "cell_type": "code",
   "execution_count": 200,
   "metadata": {},
   "outputs": [
    {
     "name": "stdout",
     "output_type": "stream",
     "text": [
      "Avg unprovoked precision:  1.0\n",
      "Avg provoked precision:  0.1066235864297256\n"
     ]
    }
   ],
   "source": [
    "from sklearn.naive_bayes import GaussianNB\n",
    "from sklearn import metrics\n",
    "\n",
    "total_precision_un = 0\n",
    "total_precision_p = 0\n",
    "num_times = 200\n",
    "\n",
    "for i in range(num_times):\n",
    "    naive_bayes = GaussianNB()\n",
    "    naive_bayes.fit(X_train, y_train)\n",
    "\n",
    "    y_pred = naive_bayes.predict(X_test)\n",
    "    result_metrics = classification_report(y_test, y_pred, target_names=target_names, output_dict = True)\n",
    "    total_precision_un += result_metrics[\"Unprovoked\"][\"precision\"]\n",
    "    total_precision_p += result_metrics[\"Provoked\"][\"precision\"]\n",
    "\n",
    "print(\"Avg unprovoked precision: \", total_precision_un / num_times)\n",
    "print(\"Avg provoked precision: \", total_precision_p / num_times)"
   ]
  },
  {
   "cell_type": "code",
   "execution_count": 201,
   "metadata": {},
   "outputs": [
    {
     "ename": "ValueError",
     "evalue": "Negative values in data passed to MultinomialNB (input X)",
     "output_type": "error",
     "traceback": [
      "\u001B[1;31m---------------------------------------------------------------------------\u001B[0m",
      "\u001B[1;31mValueError\u001B[0m                                Traceback (most recent call last)",
      "\u001B[1;32m~\\AppData\\Local\\Temp/ipykernel_19184/1480623476.py\u001B[0m in \u001B[0;36m<module>\u001B[1;34m\u001B[0m\n\u001B[0;32m      8\u001B[0m \u001B[1;32mfor\u001B[0m \u001B[0mi\u001B[0m \u001B[1;32min\u001B[0m \u001B[0mrange\u001B[0m\u001B[1;33m(\u001B[0m\u001B[0mnum_times\u001B[0m\u001B[1;33m)\u001B[0m\u001B[1;33m:\u001B[0m\u001B[1;33m\u001B[0m\u001B[1;33m\u001B[0m\u001B[0m\n\u001B[0;32m      9\u001B[0m     \u001B[0mnaive_bayes\u001B[0m \u001B[1;33m=\u001B[0m \u001B[0mMultinomialNB\u001B[0m\u001B[1;33m(\u001B[0m\u001B[1;33m)\u001B[0m\u001B[1;33m\u001B[0m\u001B[1;33m\u001B[0m\u001B[0m\n\u001B[1;32m---> 10\u001B[1;33m     \u001B[0mnaive_bayes\u001B[0m\u001B[1;33m.\u001B[0m\u001B[0mfit\u001B[0m\u001B[1;33m(\u001B[0m\u001B[0mX_train\u001B[0m\u001B[1;33m,\u001B[0m \u001B[0my_train\u001B[0m\u001B[1;33m)\u001B[0m\u001B[1;33m\u001B[0m\u001B[1;33m\u001B[0m\u001B[0m\n\u001B[0m\u001B[0;32m     11\u001B[0m \u001B[1;33m\u001B[0m\u001B[0m\n\u001B[0;32m     12\u001B[0m     \u001B[0my_pred\u001B[0m \u001B[1;33m=\u001B[0m \u001B[0mnaive_bayes\u001B[0m\u001B[1;33m.\u001B[0m\u001B[0mpredict\u001B[0m\u001B[1;33m(\u001B[0m\u001B[0mX_test\u001B[0m\u001B[1;33m)\u001B[0m\u001B[1;33m\u001B[0m\u001B[1;33m\u001B[0m\u001B[0m\n",
      "\u001B[1;32me:\\codingprojects\\sharkattackanalysis\\venv\\lib\\site-packages\\sklearn\\naive_bayes.py\u001B[0m in \u001B[0;36mfit\u001B[1;34m(self, X, y, sample_weight)\u001B[0m\n\u001B[0;32m    688\u001B[0m         \u001B[0mn_classes\u001B[0m \u001B[1;33m=\u001B[0m \u001B[0mY\u001B[0m\u001B[1;33m.\u001B[0m\u001B[0mshape\u001B[0m\u001B[1;33m[\u001B[0m\u001B[1;36m1\u001B[0m\u001B[1;33m]\u001B[0m\u001B[1;33m\u001B[0m\u001B[1;33m\u001B[0m\u001B[0m\n\u001B[0;32m    689\u001B[0m         \u001B[0mself\u001B[0m\u001B[1;33m.\u001B[0m\u001B[0m_init_counters\u001B[0m\u001B[1;33m(\u001B[0m\u001B[0mn_classes\u001B[0m\u001B[1;33m,\u001B[0m \u001B[0mn_features\u001B[0m\u001B[1;33m)\u001B[0m\u001B[1;33m\u001B[0m\u001B[1;33m\u001B[0m\u001B[0m\n\u001B[1;32m--> 690\u001B[1;33m         \u001B[0mself\u001B[0m\u001B[1;33m.\u001B[0m\u001B[0m_count\u001B[0m\u001B[1;33m(\u001B[0m\u001B[0mX\u001B[0m\u001B[1;33m,\u001B[0m \u001B[0mY\u001B[0m\u001B[1;33m)\u001B[0m\u001B[1;33m\u001B[0m\u001B[1;33m\u001B[0m\u001B[0m\n\u001B[0m\u001B[0;32m    691\u001B[0m         \u001B[0malpha\u001B[0m \u001B[1;33m=\u001B[0m \u001B[0mself\u001B[0m\u001B[1;33m.\u001B[0m\u001B[0m_check_alpha\u001B[0m\u001B[1;33m(\u001B[0m\u001B[1;33m)\u001B[0m\u001B[1;33m\u001B[0m\u001B[1;33m\u001B[0m\u001B[0m\n\u001B[0;32m    692\u001B[0m         \u001B[0mself\u001B[0m\u001B[1;33m.\u001B[0m\u001B[0m_update_feature_log_prob\u001B[0m\u001B[1;33m(\u001B[0m\u001B[0malpha\u001B[0m\u001B[1;33m)\u001B[0m\u001B[1;33m\u001B[0m\u001B[1;33m\u001B[0m\u001B[0m\n",
      "\u001B[1;32me:\\codingprojects\\sharkattackanalysis\\venv\\lib\\site-packages\\sklearn\\naive_bayes.py\u001B[0m in \u001B[0;36m_count\u001B[1;34m(self, X, Y)\u001B[0m\n\u001B[0;32m    861\u001B[0m     \u001B[1;32mdef\u001B[0m \u001B[0m_count\u001B[0m\u001B[1;33m(\u001B[0m\u001B[0mself\u001B[0m\u001B[1;33m,\u001B[0m \u001B[0mX\u001B[0m\u001B[1;33m,\u001B[0m \u001B[0mY\u001B[0m\u001B[1;33m)\u001B[0m\u001B[1;33m:\u001B[0m\u001B[1;33m\u001B[0m\u001B[1;33m\u001B[0m\u001B[0m\n\u001B[0;32m    862\u001B[0m         \u001B[1;34m\"\"\"Count and smooth feature occurrences.\"\"\"\u001B[0m\u001B[1;33m\u001B[0m\u001B[1;33m\u001B[0m\u001B[0m\n\u001B[1;32m--> 863\u001B[1;33m         \u001B[0mcheck_non_negative\u001B[0m\u001B[1;33m(\u001B[0m\u001B[0mX\u001B[0m\u001B[1;33m,\u001B[0m \u001B[1;34m\"MultinomialNB (input X)\"\u001B[0m\u001B[1;33m)\u001B[0m\u001B[1;33m\u001B[0m\u001B[1;33m\u001B[0m\u001B[0m\n\u001B[0m\u001B[0;32m    864\u001B[0m         \u001B[0mself\u001B[0m\u001B[1;33m.\u001B[0m\u001B[0mfeature_count_\u001B[0m \u001B[1;33m+=\u001B[0m \u001B[0msafe_sparse_dot\u001B[0m\u001B[1;33m(\u001B[0m\u001B[0mY\u001B[0m\u001B[1;33m.\u001B[0m\u001B[0mT\u001B[0m\u001B[1;33m,\u001B[0m \u001B[0mX\u001B[0m\u001B[1;33m)\u001B[0m\u001B[1;33m\u001B[0m\u001B[1;33m\u001B[0m\u001B[0m\n\u001B[0;32m    865\u001B[0m         \u001B[0mself\u001B[0m\u001B[1;33m.\u001B[0m\u001B[0mclass_count_\u001B[0m \u001B[1;33m+=\u001B[0m \u001B[0mY\u001B[0m\u001B[1;33m.\u001B[0m\u001B[0msum\u001B[0m\u001B[1;33m(\u001B[0m\u001B[0maxis\u001B[0m\u001B[1;33m=\u001B[0m\u001B[1;36m0\u001B[0m\u001B[1;33m)\u001B[0m\u001B[1;33m\u001B[0m\u001B[1;33m\u001B[0m\u001B[0m\n",
      "\u001B[1;32me:\\codingprojects\\sharkattackanalysis\\venv\\lib\\site-packages\\sklearn\\utils\\validation.py\u001B[0m in \u001B[0;36mcheck_non_negative\u001B[1;34m(X, whom)\u001B[0m\n\u001B[0;32m   1234\u001B[0m \u001B[1;33m\u001B[0m\u001B[0m\n\u001B[0;32m   1235\u001B[0m     \u001B[1;32mif\u001B[0m \u001B[0mX_min\u001B[0m \u001B[1;33m<\u001B[0m \u001B[1;36m0\u001B[0m\u001B[1;33m:\u001B[0m\u001B[1;33m\u001B[0m\u001B[1;33m\u001B[0m\u001B[0m\n\u001B[1;32m-> 1236\u001B[1;33m         \u001B[1;32mraise\u001B[0m \u001B[0mValueError\u001B[0m\u001B[1;33m(\u001B[0m\u001B[1;34m\"Negative values in data passed to %s\"\u001B[0m \u001B[1;33m%\u001B[0m \u001B[0mwhom\u001B[0m\u001B[1;33m)\u001B[0m\u001B[1;33m\u001B[0m\u001B[1;33m\u001B[0m\u001B[0m\n\u001B[0m\u001B[0;32m   1237\u001B[0m \u001B[1;33m\u001B[0m\u001B[0m\n\u001B[0;32m   1238\u001B[0m \u001B[1;33m\u001B[0m\u001B[0m\n",
      "\u001B[1;31mValueError\u001B[0m: Negative values in data passed to MultinomialNB (input X)"
     ]
    }
   ],
   "source": [
    "from sklearn.naive_bayes import MultinomialNB\n",
    "from sklearn import metrics\n",
    "\n",
    "total_precision_un = 0\n",
    "total_precision_p = 0\n",
    "num_times = 200\n",
    "\n",
    "for i in range(num_times):\n",
    "    naive_bayes = MultinomialNB()\n",
    "    naive_bayes.fit(X_train, y_train)\n",
    "\n",
    "    y_pred = naive_bayes.predict(X_test)\n",
    "    result_metrics = classification_report(y_test, y_pred, target_names=target_names, output_dict = True)\n",
    "    total_precision_un += result_metrics[\"Unprovoked\"][\"precision\"]\n",
    "    total_precision_p += result_metrics[\"Provoked\"][\"precision\"]\n",
    "\n",
    "print(\"Avg unprovoked precision: \", total_precision_un / num_times)\n",
    "print(\"Avg provoked precision: \", total_precision_p / num_times)"
   ]
  },
  {
   "cell_type": "code",
   "execution_count": null,
   "metadata": {},
   "outputs": [],
   "source": [
    "from sklearn.preprocessing import StandardScaler\n",
    "from sklearn.neighbors import KNeighborsClassifier\n",
    "\n",
    "total_precision_un = 0\n",
    "total_precision_p = 0\n",
    "num_times = 200\n",
    "\n",
    "for i in range(num_times):  \n",
    "    X_train, X_test, y_train, y_test = train_test_split(X, y, test_size=0.20)\n",
    "    scaler = MinMaxScaler()\n",
    "    X_train = scaler.fit_transform(X_train)\n",
    "    X_test = scaler.fit_transform(X_test)\n",
    "    \n",
    "    clf = KNeighborsClassifier(n_neighbors = 20)\n",
    "    clf.fit(X_train, y_train)\n",
    "    y_pred = clf.predict(X_test)\n",
    "    \n",
    "    result_metrics = classification_report(y_test, y_pred, target_names=target_names, output_dict = True)\n",
    "    total_precision_un += result_metrics[\"Unprovoked\"][\"precision\"]\n",
    "    total_precision_p += result_metrics[\"Provoked\"][\"precision\"]\n",
    "\n",
    "print(\"Avg unprovoked precision: \", total_precision_un / num_times)\n",
    "print(\"Avg provoked precision: \", total_precision_p / num_times)\n"
   ]
  },
  {
   "cell_type": "code",
   "execution_count": null,
   "outputs": [],
   "source": [
    "from sklearn.neural_network import MLPClassifier\n",
    "\n",
    "total_precision_un = 0\n",
    "total_precision_p = 0\n",
    "num_times = 10\n",
    "\n",
    "for i in range(num_times):\n",
    "    X_train, X_test, y_train, y_test = train_test_split(X, y, test_size=0.20, stratify=y)\n",
    "    scaler = MinMaxScaler()\n",
    "    X_train = scaler.fit_transform(X_train)\n",
    "    X_test = scaler.fit_transform(X_test)\n",
    "\n",
    "    clf = MLPClassifier(random_state=42, solver='lbfgs', max_iter=200)\n",
    "\n",
    "    clf.fit(X_train, y_train)\n",
    "\n",
    "    y_pred = clf.predict(X_test)\n",
    "    result_metrics = classification_report(y_test, y_pred, target_names=target_names, output_dict = True)\n",
    "    total_precision_un += result_metrics[\"Unprovoked\"][\"precision\"]\n",
    "    total_precision_p += result_metrics[\"Provoked\"][\"precision\"]\n",
    "\n",
    "print(\"Avg unprovoked precision: \", total_precision_un / num_times)\n",
    "print(\"Avg provoked precision: \", total_precision_p / num_times)"
   ],
   "metadata": {
    "collapsed": false,
    "pycharm": {
     "name": "#%%\n"
    }
   }
  },
  {
   "cell_type": "code",
   "execution_count": 207,
   "outputs": [
    {
     "name": "stdout",
     "output_type": "stream",
     "text": [
      "1\n",
      "              precision    recall  f1-score   support\n",
      "\n",
      "  Unprovoked       0.91      0.99      0.95      1109\n",
      "    Provoked       0.78      0.21      0.33       132\n",
      "\n",
      "    accuracy                           0.91      1241\n",
      "   macro avg       0.85      0.60      0.64      1241\n",
      "weighted avg       0.90      0.91      0.89      1241\n",
      "\n"
     ]
    }
   ],
   "source": [
    "from sklearn.ensemble import RandomForestClassifier\n",
    "\n",
    "total_precision_un = 0\n",
    "total_precision_p = 0\n",
    "num_times = 7\n",
    "num_tests = 2\n",
    "\n",
    "data = { 'n_estimators': [0], 'Avg provoked precision': [0], 'Avg unprovoked precision': [0]}\n",
    "results_df = pd.DataFrame(data, index=[0])\n",
    "target_names = ['Unprovoked', 'Provoked']\n",
    "\n",
    "\n",
    "for i in range(1, num_tests):\n",
    "    total_precision_un = 0\n",
    "    total_precision_p = 0\n",
    "    num_est = 10 * i\n",
    "    for j in range(num_times):\n",
    "        X_train, X_test, y_train, y_test = train_test_split(X, y, test_size=0.30, stratify=y)\n",
    "        scaler = MinMaxScaler()\n",
    "        X_train = scaler.fit_transform(X_train)\n",
    "        X_test = scaler.fit_transform(X_test)\n",
    "\n",
    "        clf = RandomForestClassifier(n_estimators = 250, max_depth=6, n_jobs=-1, random_state=42)\n",
    "        clf.fit(X_train, y_train)\n",
    "        y_pred = clf.predict(X_test)\n",
    "\n",
    "        result_metrics = classification_report(y_test, y_pred, target_names=target_names, output_dict = True)\n",
    "        total_precision_un += result_metrics[\"Unprovoked\"][\"precision\"]\n",
    "        total_precision_p += result_metrics[\"Provoked\"][\"precision\"]\n",
    "\n",
    "    new_data = {'n_estimators': num_est, 'Avg provoked precision': (total_precision_p / num_times), 'Avg unprovoked precision': (total_precision_un / num_times)}\n",
    "    new_df = pd.DataFrame(new_data, index=[i])\n",
    "    results_df.loc[i] = new_data\n",
    "    results_df.append(new_df)\n",
    "\n",
    "    result_metrics = classification_report(y_test, y_pred, target_names=target_names)\n",
    "    print(i)\n",
    "    print(result_metrics)\n",
    "\n",
    "    #print(\"Avg unprovoked precision: \", total_precision_un / num_times)\n",
    "    #print(\"Avg provoked precision: \", total_precision_p / num_times)\n"
   ],
   "metadata": {
    "collapsed": false,
    "pycharm": {
     "name": "#%%\n"
    }
   }
  },
  {
   "cell_type": "code",
   "execution_count": null,
   "outputs": [],
   "source": [
    "print(results_df[\"Avg provoked precision\"])"
   ],
   "metadata": {
    "collapsed": false,
    "pycharm": {
     "name": "#%%\n"
    }
   }
  },
  {
   "cell_type": "code",
   "execution_count": null,
   "metadata": {},
   "outputs": [],
   "source": [
    "results_df.plot(x=\"n_estimators\", y=[\"Avg provoked precision\",\"Avg unprovoked precision\"], kind=\"line\", figsize=(50, 30), lw=4)\n",
    "plt.legend(loc=4, prop={'size': 50})\n",
    "plt.tick_params(axis='both', labelsize=50)\n",
    "plt.xlabel(\"Number of Estimators\", size=50)\n",
    "plt.ylabel(\"Precision\", size=50)\n",
    "plt.title('Average Precision of Random Forest model by Number of Estimators', size=50)\n",
    "plt.savefig(\"Avg_precision_rfm_by_num_estimators.png\")"
   ]
  },
  {
   "cell_type": "code",
   "execution_count": 204,
   "outputs": [
    {
     "name": "stdout",
     "output_type": "stream",
     "text": [
      "Avg unprovoked precision:  0.8995841043203565\n",
      "Avg provoked precision:  0.8969714795008912\n",
      "\n"
     ]
    }
   ],
   "source": [
    "from sklearn.ensemble import RandomForestClassifier\n",
    "\n",
    "total_precision_un = 0\n",
    "total_precision_p = 0\n",
    "num_times = 25\n",
    "num_tests = 2\n",
    "\n",
    "data = { 'max_depth': [0], 'Avg provoked precision': [0], 'Avg unprovoked precision': [0]}\n",
    "results_df = pd.DataFrame(data, index=[0])\n",
    "\n",
    "for i in range(1, num_tests):\n",
    "    total_precision_un = 0\n",
    "    total_precision_p = 0\n",
    "    num_est = 50 * i\n",
    "    for j in range(num_times):\n",
    "        X_train, X_test, y_train, y_test = train_test_split(X, y, test_size=0.30, stratify=y)\n",
    "        scaler = MinMaxScaler()\n",
    "        X_train = scaler.fit_transform(X_train)\n",
    "        X_test = scaler.fit_transform(X_test)\n",
    "\n",
    "        clf = RandomForestClassifier(n_estimators = 250, max_depth=4, n_jobs=-1, random_state=42)\n",
    "        clf.fit(X_train, y_train)\n",
    "        y_pred = clf.predict(X_test)\n",
    "\n",
    "        result_metrics = classification_report(y_test, y_pred, target_names=target_names, output_dict = True)\n",
    "        total_precision_un += result_metrics[\"Unprovoked\"][\"precision\"]\n",
    "        total_precision_p += result_metrics[\"Provoked\"][\"precision\"]\n",
    "\n",
    "    new_data = {'max_depth': i, 'Avg provoked precision': (total_precision_p / num_times), 'Avg unprovoked precision': (total_precision_un / num_times)}\n",
    "    new_df = pd.DataFrame(new_data, index=[i])\n",
    "    results_df.loc[i] = new_data\n",
    "    results_df.append(new_df)\n",
    "\n",
    "    print(\"Avg unprovoked precision: \", total_precision_un / num_times)\n",
    "    print(\"Avg provoked precision: \", total_precision_p / num_times)\n",
    "    print()"
   ],
   "metadata": {
    "collapsed": false,
    "pycharm": {
     "name": "#%%\n"
    }
   }
  },
  {
   "cell_type": "code",
   "execution_count": null,
   "outputs": [],
   "source": [
    "\n",
    "results_df.plot(x=\"max_depth\", y=[\"Avg provoked precision\",\"Avg unprovoked precision\"], kind=\"line\", figsize=(50, 30), lw=4)\n",
    "plt.legend(loc=4, prop={'size': 50})\n",
    "plt.tick_params(axis='both', labelsize=50)\n",
    "plt.xticks(range(0, 50, 2))\n",
    "plt.xlabel(\"Depth\", size=50)\n",
    "plt.ylabel(\"Precision\", size=50)\n",
    "plt.title('Average Precision of Random Forest model by Max Depth, (Num Estimators = 250)', size=50)\n",
    "plt.savefig(\"avg_prec_RFM_max_depth_n_est_250.png\")"
   ],
   "metadata": {
    "collapsed": false,
    "pycharm": {
     "name": "#%%\n"
    }
   }
  },
  {
   "cell_type": "code",
   "execution_count": null,
   "outputs": [],
   "source": [],
   "metadata": {
    "collapsed": false,
    "pycharm": {
     "name": "#%%\n"
    }
   }
  }
 ],
 "metadata": {
  "interpreter": {
   "hash": "167380c844cb8dab65f7a2242fcdd292fd16a45a4bab8a9de8ac74aeee39fadd"
  },
  "kernelspec": {
   "display_name": "Python 3",
   "language": "python",
   "name": "python3"
  },
  "language_info": {
   "codemirror_mode": {
    "name": "ipython",
    "version": 3
   },
   "file_extension": ".py",
   "mimetype": "text/x-python",
   "name": "python",
   "nbconvert_exporter": "python",
   "pygments_lexer": "ipython3",
   "version": "3.9.0"
  }
 },
 "nbformat": 4,
 "nbformat_minor": 2
}