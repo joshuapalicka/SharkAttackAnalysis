{
 "cells": [
  {
   "cell_type": "code",
   "execution_count": 65,
   "metadata": {},
   "outputs": [],
   "source": [
    "import pandas as pd\n",
    "import numpy as np\n",
    "\n",
    "shark_data_unclean = pd.read_csv('data/Alex_Kinda_clean_data.csv', encoding = \"ISO-8859-1\")"
   ]
  },
  {
   "cell_type": "code",
   "execution_count": 66,
   "metadata": {},
   "outputs": [
    {
     "name": "stderr",
     "output_type": "stream",
     "text": [
      "<ipython-input-66-89edbad657d7>:1: FutureWarning: In a future version of pandas all arguments of DataFrame.drop except for the argument 'labels' will be keyword-only\n",
      "  shark_data_unclean = shark_data_unclean.drop(\"Unnamed: 0\" , 1)\n"
     ]
    }
   ],
   "source": [
    "shark_data_unclean = shark_data_unclean.drop(\"Unnamed: 0\" , 1)\n",
    "shark_data_unclean['Age'] = pd.to_numeric(shark_data_unclean['Age'], errors='coerce')\n",
    "shark_data_unclean['Time'] = pd.to_numeric(shark_data_unclean['Time'], errors='coerce')\n",
    "shark_data_unclean = shark_data_unclean.dropna(subset=[\"Activity\"])"
   ]
  },
  {
   "cell_type": "code",
   "execution_count": 67,
   "metadata": {},
   "outputs": [
    {
     "data": {
      "text/plain": [
       "Type\n",
       "Unprovoked    3696\n",
       "Provoked       440\n",
       "dtype: int64"
      ]
     },
     "execution_count": 67,
     "metadata": {},
     "output_type": "execute_result"
    }
   ],
   "source": [
    "shark_data_unclean.value_counts(\"Type\")"
   ]
  },
  {
   "cell_type": "code",
   "execution_count": 68,
   "metadata": {},
   "outputs": [],
   "source": [
    "shark_data_unclean = shark_data_unclean[shark_data_unclean[\"Activity\"] != \"nan\"]"
   ]
  },
  {
   "cell_type": "code",
   "execution_count": 69,
   "metadata": {},
   "outputs": [
    {
     "data": {
      "text/html": [
       "<div>\n",
       "<style scoped>\n",
       "    .dataframe tbody tr th:only-of-type {\n",
       "        vertical-align: middle;\n",
       "    }\n",
       "\n",
       "    .dataframe tbody tr th {\n",
       "        vertical-align: top;\n",
       "    }\n",
       "\n",
       "    .dataframe thead th {\n",
       "        text-align: right;\n",
       "    }\n",
       "</style>\n",
       "<table border=\"1\" class=\"dataframe\">\n",
       "  <thead>\n",
       "    <tr style=\"text-align: right;\">\n",
       "      <th></th>\n",
       "      <th>Type</th>\n",
       "      <th>Activity</th>\n",
       "      <th>Sex</th>\n",
       "      <th>Age</th>\n",
       "      <th>Injury</th>\n",
       "      <th>Fatal (Y/N)</th>\n",
       "      <th>Time</th>\n",
       "      <th>Species</th>\n",
       "      <th>Proper_date</th>\n",
       "      <th>Full Location</th>\n",
       "      <th>latitude</th>\n",
       "      <th>longitude</th>\n",
       "      <th>avg_temp</th>\n",
       "      <th>precipitation</th>\n",
       "      <th>wind_speed</th>\n",
       "      <th>sea_level_pressure</th>\n",
       "    </tr>\n",
       "  </thead>\n",
       "  <tbody>\n",
       "    <tr>\n",
       "      <th>0</th>\n",
       "      <td>Unprovoked</td>\n",
       "      <td>surfing</td>\n",
       "      <td>M</td>\n",
       "      <td>6</td>\n",
       "      <td>Minor injury to right arm</td>\n",
       "      <td>N</td>\n",
       "      <td>1320.0</td>\n",
       "      <td>Not Determined</td>\n",
       "      <td>20210909</td>\n",
       "      <td>USA Florida Ponce Inlet, Volusia County</td>\n",
       "      <td>29.096373</td>\n",
       "      <td>-80.936998</td>\n",
       "      <td>26.100000</td>\n",
       "      <td>1.000000</td>\n",
       "      <td>16.200000</td>\n",
       "      <td>1012.500000</td>\n",
       "    </tr>\n",
       "    <tr>\n",
       "      <th>1</th>\n",
       "      <td>Unprovoked</td>\n",
       "      <td>surfing</td>\n",
       "      <td>M</td>\n",
       "      <td>31</td>\n",
       "      <td>FATAL</td>\n",
       "      <td>Y</td>\n",
       "      <td>1030.0</td>\n",
       "      <td>White xhark</td>\n",
       "      <td>20210905</td>\n",
       "      <td>AUSTRALIA New South Wales Emerald Beach</td>\n",
       "      <td>-30.157479</td>\n",
       "      <td>153.150195</td>\n",
       "      <td>13.600000</td>\n",
       "      <td>4.600000</td>\n",
       "      <td>20.400000</td>\n",
       "      <td>1017.300000</td>\n",
       "    </tr>\n",
       "    <tr>\n",
       "      <th>2</th>\n",
       "      <td>Unprovoked</td>\n",
       "      <td>boarding</td>\n",
       "      <td>M</td>\n",
       "      <td>27</td>\n",
       "      <td>Lacerations both sides of lower leg immediatel...</td>\n",
       "      <td>N</td>\n",
       "      <td>1145.0</td>\n",
       "      <td>Not Determined</td>\n",
       "      <td>20210828</td>\n",
       "      <td>USA Texas Galveston Island, Galveston County</td>\n",
       "      <td>29.241005</td>\n",
       "      <td>-94.909133</td>\n",
       "      <td>29.400000</td>\n",
       "      <td>2.500000</td>\n",
       "      <td>10.400000</td>\n",
       "      <td>1013.700000</td>\n",
       "    </tr>\n",
       "    <tr>\n",
       "      <th>3</th>\n",
       "      <td>Unprovoked</td>\n",
       "      <td>fell</td>\n",
       "      <td>M</td>\n",
       "      <td>64</td>\n",
       "      <td>Severe injury to leg</td>\n",
       "      <td>N</td>\n",
       "      <td>1400.0</td>\n",
       "      <td>Not Determined</td>\n",
       "      <td>20210903</td>\n",
       "      <td>USA Louisiana off Grand Isle</td>\n",
       "      <td>29.236617</td>\n",
       "      <td>-89.987294</td>\n",
       "      <td>27.200000</td>\n",
       "      <td>3.900000</td>\n",
       "      <td>5.100000</td>\n",
       "      <td>1014.600000</td>\n",
       "    </tr>\n",
       "    <tr>\n",
       "      <th>4</th>\n",
       "      <td>Unprovoked</td>\n",
       "      <td>surfing</td>\n",
       "      <td>M</td>\n",
       "      <td>41</td>\n",
       "      <td>Left ankle and foot bitten</td>\n",
       "      <td>N</td>\n",
       "      <td>640.0</td>\n",
       "      <td>Bull shark</td>\n",
       "      <td>20210821</td>\n",
       "      <td>USA Florida Walton Beach Psrk, St. Lucie County</td>\n",
       "      <td>27.337890</td>\n",
       "      <td>-80.233431</td>\n",
       "      <td>28.900000</td>\n",
       "      <td>0.200000</td>\n",
       "      <td>11.000000</td>\n",
       "      <td>1015.000000</td>\n",
       "    </tr>\n",
       "    <tr>\n",
       "      <th>...</th>\n",
       "      <td>...</td>\n",
       "      <td>...</td>\n",
       "      <td>...</td>\n",
       "      <td>...</td>\n",
       "      <td>...</td>\n",
       "      <td>...</td>\n",
       "      <td>...</td>\n",
       "      <td>...</td>\n",
       "      <td>...</td>\n",
       "      <td>...</td>\n",
       "      <td>...</td>\n",
       "      <td>...</td>\n",
       "      <td>...</td>\n",
       "      <td>...</td>\n",
       "      <td>...</td>\n",
       "      <td>...</td>\n",
       "    </tr>\n",
       "    <tr>\n",
       "      <th>4131</th>\n",
       "      <td>Unprovoked</td>\n",
       "      <td>floating</td>\n",
       "      <td>M</td>\n",
       "      <td>27</td>\n",
       "      <td>Bathing suit torn &amp; \"imprints of the shark's t...</td>\n",
       "      <td>N</td>\n",
       "      <td>1800.0</td>\n",
       "      <td>Not Determined</td>\n",
       "      <td>19000905</td>\n",
       "      <td>USA Hawaii Waikiki Beach, Oahu</td>\n",
       "      <td>21.279346</td>\n",
       "      <td>-157.829185</td>\n",
       "      <td>24.041156</td>\n",
       "      <td>9.165706</td>\n",
       "      <td>12.665634</td>\n",
       "      <td>1016.229106</td>\n",
       "    </tr>\n",
       "    <tr>\n",
       "      <th>4132</th>\n",
       "      <td>Unprovoked</td>\n",
       "      <td>bathing</td>\n",
       "      <td>M</td>\n",
       "      <td>27</td>\n",
       "      <td>Left hand lacerated</td>\n",
       "      <td>N</td>\n",
       "      <td>1800.0</td>\n",
       "      <td>Not Determined</td>\n",
       "      <td>19000821</td>\n",
       "      <td>USA North Carolina Southport, Brunswick County</td>\n",
       "      <td>33.918209</td>\n",
       "      <td>-78.019301</td>\n",
       "      <td>24.041156</td>\n",
       "      <td>9.165706</td>\n",
       "      <td>12.665634</td>\n",
       "      <td>1016.229106</td>\n",
       "    </tr>\n",
       "    <tr>\n",
       "      <th>4133</th>\n",
       "      <td>Unprovoked</td>\n",
       "      <td>swimming</td>\n",
       "      <td>M</td>\n",
       "      <td>27</td>\n",
       "      <td>FATAL</td>\n",
       "      <td>Y</td>\n",
       "      <td>9999.0</td>\n",
       "      <td>Not Determined</td>\n",
       "      <td>19000731</td>\n",
       "      <td>CROATIA  Primorje-Gorski Kotar County Volosko,...</td>\n",
       "      <td>45.350000</td>\n",
       "      <td>14.316667</td>\n",
       "      <td>24.041156</td>\n",
       "      <td>9.165706</td>\n",
       "      <td>12.665634</td>\n",
       "      <td>1016.229106</td>\n",
       "    </tr>\n",
       "    <tr>\n",
       "      <th>4134</th>\n",
       "      <td>Provoked</td>\n",
       "      <td>0</td>\n",
       "      <td>Not Determined</td>\n",
       "      <td>27</td>\n",
       "      <td>No injury to occupants. They shot shark, then ...</td>\n",
       "      <td>N</td>\n",
       "      <td>9999.0</td>\n",
       "      <td>Not Determined</td>\n",
       "      <td>19875253</td>\n",
       "      <td>USA Connecticut Bridgeport, Fairfield County</td>\n",
       "      <td>41.179226</td>\n",
       "      <td>-73.189438</td>\n",
       "      <td>24.041156</td>\n",
       "      <td>9.165706</td>\n",
       "      <td>12.665634</td>\n",
       "      <td>1016.229106</td>\n",
       "    </tr>\n",
       "    <tr>\n",
       "      <th>4135</th>\n",
       "      <td>Unprovoked</td>\n",
       "      <td>0</td>\n",
       "      <td>M</td>\n",
       "      <td>27</td>\n",
       "      <td>Right posterior thigh bitten</td>\n",
       "      <td>N</td>\n",
       "      <td>1200.0</td>\n",
       "      <td>Not Determined</td>\n",
       "      <td>19875253</td>\n",
       "      <td>AUSTRALIA New South Wales Lane Cove River, Syd...</td>\n",
       "      <td>-33.782705</td>\n",
       "      <td>151.140035</td>\n",
       "      <td>24.041156</td>\n",
       "      <td>9.165706</td>\n",
       "      <td>12.665634</td>\n",
       "      <td>1016.229106</td>\n",
       "    </tr>\n",
       "  </tbody>\n",
       "</table>\n",
       "<p>4136 rows × 16 columns</p>\n",
       "</div>"
      ],
      "text/plain": [
       "            Type  Activity            Sex   Age  \\\n",
       "0     Unprovoked   surfing               M    6   \n",
       "1     Unprovoked   surfing               M   31   \n",
       "2     Unprovoked  boarding               M   27   \n",
       "3     Unprovoked      fell               M   64   \n",
       "4     Unprovoked   surfing               M   41   \n",
       "...          ...       ...             ...  ...   \n",
       "4131  Unprovoked  floating               M   27   \n",
       "4132  Unprovoked   bathing               M   27   \n",
       "4133  Unprovoked  swimming               M   27   \n",
       "4134    Provoked         0  Not Determined   27   \n",
       "4135  Unprovoked         0               M   27   \n",
       "\n",
       "                                                 Injury Fatal (Y/N)    Time  \\\n",
       "0                             Minor injury to right arm           N  1320.0   \n",
       "1                                                 FATAL           Y  1030.0   \n",
       "2     Lacerations both sides of lower leg immediatel...           N  1145.0   \n",
       "3                                  Severe injury to leg           N  1400.0   \n",
       "4                            Left ankle and foot bitten           N   640.0   \n",
       "...                                                 ...         ...     ...   \n",
       "4131  Bathing suit torn & \"imprints of the shark's t...           N  1800.0   \n",
       "4132                                Left hand lacerated           N  1800.0   \n",
       "4133                                              FATAL           Y  9999.0   \n",
       "4134  No injury to occupants. They shot shark, then ...           N  9999.0   \n",
       "4135                       Right posterior thigh bitten           N  1200.0   \n",
       "\n",
       "            Species   Proper_date  \\\n",
       "0     Not Determined     20210909   \n",
       "1        White xhark     20210905   \n",
       "2     Not Determined     20210828   \n",
       "3     Not Determined     20210903   \n",
       "4         Bull shark     20210821   \n",
       "...              ...          ...   \n",
       "4131  Not Determined     19000905   \n",
       "4132  Not Determined     19000821   \n",
       "4133  Not Determined     19000731   \n",
       "4134  Not Determined     19875253   \n",
       "4135  Not Determined     19875253   \n",
       "\n",
       "                                          Full Location   latitude  \\\n",
       "0               USA Florida Ponce Inlet, Volusia County  29.096373   \n",
       "1               AUSTRALIA New South Wales Emerald Beach -30.157479   \n",
       "2          USA Texas Galveston Island, Galveston County  29.241005   \n",
       "3                          USA Louisiana off Grand Isle  29.236617   \n",
       "4       USA Florida Walton Beach Psrk, St. Lucie County  27.337890   \n",
       "...                                                 ...        ...   \n",
       "4131                     USA Hawaii Waikiki Beach, Oahu  21.279346   \n",
       "4132     USA North Carolina Southport, Brunswick County  33.918209   \n",
       "4133  CROATIA  Primorje-Gorski Kotar County Volosko,...  45.350000   \n",
       "4134       USA Connecticut Bridgeport, Fairfield County  41.179226   \n",
       "4135  AUSTRALIA New South Wales Lane Cove River, Syd... -33.782705   \n",
       "\n",
       "       longitude   avg_temp  precipitation  wind_speed  sea_level_pressure  \n",
       "0     -80.936998  26.100000       1.000000   16.200000         1012.500000  \n",
       "1     153.150195  13.600000       4.600000   20.400000         1017.300000  \n",
       "2     -94.909133  29.400000       2.500000   10.400000         1013.700000  \n",
       "3     -89.987294  27.200000       3.900000    5.100000         1014.600000  \n",
       "4     -80.233431  28.900000       0.200000   11.000000         1015.000000  \n",
       "...          ...        ...            ...         ...                 ...  \n",
       "4131 -157.829185  24.041156       9.165706   12.665634         1016.229106  \n",
       "4132  -78.019301  24.041156       9.165706   12.665634         1016.229106  \n",
       "4133   14.316667  24.041156       9.165706   12.665634         1016.229106  \n",
       "4134  -73.189438  24.041156       9.165706   12.665634         1016.229106  \n",
       "4135  151.140035  24.041156       9.165706   12.665634         1016.229106  \n",
       "\n",
       "[4136 rows x 16 columns]"
      ]
     },
     "execution_count": 69,
     "metadata": {},
     "output_type": "execute_result"
    }
   ],
   "source": [
    "shark_data_unclean"
   ]
  },
  {
   "cell_type": "code",
   "execution_count": 70,
   "metadata": {},
   "outputs": [],
   "source": [
    "activity_df = shark_data_unclean.value_counts(\"Activity\").reset_index()"
   ]
  },
  {
   "cell_type": "code",
   "execution_count": 71,
   "metadata": {},
   "outputs": [],
   "source": [
    "activity_df = activity_df.iloc[:, 0]\n",
    "activity_list = activity_df.values.tolist()"
   ]
  },
  {
   "cell_type": "code",
   "execution_count": 72,
   "metadata": {},
   "outputs": [],
   "source": [
    "activity_dict = {}\n",
    "index = 0\n",
    "for item in activity_list:\n",
    "    activity_dict[item] = index\n",
    "    index += 1"
   ]
  },
  {
   "cell_type": "code",
   "execution_count": 73,
   "metadata": {},
   "outputs": [],
   "source": [
    "cur_index = 0\n",
    "for activity in shark_data_unclean[\"Activity\"]:\n",
    "    if activity in activity_dict:\n",
    "        shark_data_unclean.iloc[cur_index, 3] = activity_dict[activity]\n",
    "        cur_index += 1\n",
    "    else:\n",
    "        print(activity, \" : \", index)\n",
    "        shark_data_unclean = shark_data_unclean.drop(index=cur_index)"
   ]
  },
  {
   "cell_type": "code",
   "execution_count": 74,
   "metadata": {},
   "outputs": [],
   "source": [
    "#shark_data_unclean[\"Activity\"]\n",
    "#shark_data_unclean['code'] = shark_data_unclean.cc.cat.codes"
   ]
  },
  {
   "cell_type": "code",
   "execution_count": 75,
   "metadata": {},
   "outputs": [
    {
     "data": {
      "text/plain": [
       "Index(['Type', 'Activity', 'Sex ', 'Age', 'Injury', 'Fatal (Y/N)', 'Time',\n",
       "       'Species ', 'Proper_date', 'Full Location', 'latitude', 'longitude',\n",
       "       'avg_temp', 'precipitation', 'wind_speed', 'sea_level_pressure'],\n",
       "      dtype='object')"
      ]
     },
     "execution_count": 75,
     "metadata": {},
     "output_type": "execute_result"
    }
   ],
   "source": [
    "shark_data_unclean.columns"
   ]
  },
  {
   "cell_type": "code",
   "execution_count": 76,
   "metadata": {},
   "outputs": [
    {
     "name": "stdout",
     "output_type": "stream",
     "text": [
      "<class 'pandas.core.frame.DataFrame'>\n",
      "Int64Index: 4135 entries, 0 to 4135\n",
      "Data columns (total 16 columns):\n",
      " #   Column              Non-Null Count  Dtype  \n",
      "---  ------              --------------  -----  \n",
      " 0   Type                4135 non-null   object \n",
      " 1   Activity            4135 non-null   int64  \n",
      " 2   Sex                 4135 non-null   int64  \n",
      " 3   Age                 4135 non-null   int64  \n",
      " 4   Injury              4135 non-null   int64  \n",
      " 5   Fatal (Y/N)         4135 non-null   int64  \n",
      " 6   Time                4135 non-null   float64\n",
      " 7   Species             4135 non-null   int64  \n",
      " 8   Proper_date         4135 non-null   int64  \n",
      " 9   Full Location       4135 non-null   int64  \n",
      " 10  latitude            4135 non-null   float64\n",
      " 11  longitude           4135 non-null   float64\n",
      " 12  avg_temp            4135 non-null   float64\n",
      " 13  precipitation       4135 non-null   float64\n",
      " 14  wind_speed          4135 non-null   float64\n",
      " 15  sea_level_pressure  4135 non-null   float64\n",
      "dtypes: float64(7), int64(8), object(1)\n",
      "memory usage: 549.2+ KB\n"
     ]
    },
    {
     "name": "stderr",
     "output_type": "stream",
     "text": [
      "<ipython-input-76-3f6bcba0effd>:4: SettingWithCopyWarning: \n",
      "A value is trying to be set on a copy of a slice from a DataFrame.\n",
      "Try using .loc[row_indexer,col_indexer] = value instead\n",
      "\n",
      "See the caveats in the documentation: https://pandas.pydata.org/pandas-docs/stable/user_guide/indexing.html#returning-a-view-versus-a-copy\n",
      "  shark_data_unclean['Type'] = shark_data_unclean['Type'].str.replace(\"Unprovoked\", '0')\n",
      "<ipython-input-76-3f6bcba0effd>:5: SettingWithCopyWarning: \n",
      "A value is trying to be set on a copy of a slice from a DataFrame.\n",
      "Try using .loc[row_indexer,col_indexer] = value instead\n",
      "\n",
      "See the caveats in the documentation: https://pandas.pydata.org/pandas-docs/stable/user_guide/indexing.html#returning-a-view-versus-a-copy\n",
      "  shark_data_unclean['Type'] = shark_data_unclean['Type'].str.replace(\"Provoked\", '1')\n",
      "<ipython-input-76-3f6bcba0effd>:7: SettingWithCopyWarning: \n",
      "A value is trying to be set on a copy of a slice from a DataFrame.\n",
      "Try using .loc[row_indexer,col_indexer] = value instead\n",
      "\n",
      "See the caveats in the documentation: https://pandas.pydata.org/pandas-docs/stable/user_guide/indexing.html#returning-a-view-versus-a-copy\n",
      "  shark_data_unclean['Activity'] = pd.factorize(shark_data_unclean['Activity'])[0]\n",
      "<ipython-input-76-3f6bcba0effd>:8: SettingWithCopyWarning: \n",
      "A value is trying to be set on a copy of a slice from a DataFrame.\n",
      "Try using .loc[row_indexer,col_indexer] = value instead\n",
      "\n",
      "See the caveats in the documentation: https://pandas.pydata.org/pandas-docs/stable/user_guide/indexing.html#returning-a-view-versus-a-copy\n",
      "  shark_data_unclean['Fatal (Y/N)'] = pd.factorize(shark_data_unclean['Fatal (Y/N)'])[0]\n",
      "<ipython-input-76-3f6bcba0effd>:9: SettingWithCopyWarning: \n",
      "A value is trying to be set on a copy of a slice from a DataFrame.\n",
      "Try using .loc[row_indexer,col_indexer] = value instead\n",
      "\n",
      "See the caveats in the documentation: https://pandas.pydata.org/pandas-docs/stable/user_guide/indexing.html#returning-a-view-versus-a-copy\n",
      "  shark_data_unclean['Sex '] = pd.factorize(shark_data_unclean['Sex '])[0]\n",
      "<ipython-input-76-3f6bcba0effd>:10: SettingWithCopyWarning: \n",
      "A value is trying to be set on a copy of a slice from a DataFrame.\n",
      "Try using .loc[row_indexer,col_indexer] = value instead\n",
      "\n",
      "See the caveats in the documentation: https://pandas.pydata.org/pandas-docs/stable/user_guide/indexing.html#returning-a-view-versus-a-copy\n",
      "  shark_data_unclean['Injury'] = pd.factorize(shark_data_unclean['Injury'])[0]\n",
      "<ipython-input-76-3f6bcba0effd>:11: SettingWithCopyWarning: \n",
      "A value is trying to be set on a copy of a slice from a DataFrame.\n",
      "Try using .loc[row_indexer,col_indexer] = value instead\n",
      "\n",
      "See the caveats in the documentation: https://pandas.pydata.org/pandas-docs/stable/user_guide/indexing.html#returning-a-view-versus-a-copy\n",
      "  shark_data_unclean['Species '] = pd.factorize(shark_data_unclean['Species '])[0]\n",
      "<ipython-input-76-3f6bcba0effd>:12: SettingWithCopyWarning: \n",
      "A value is trying to be set on a copy of a slice from a DataFrame.\n",
      "Try using .loc[row_indexer,col_indexer] = value instead\n",
      "\n",
      "See the caveats in the documentation: https://pandas.pydata.org/pandas-docs/stable/user_guide/indexing.html#returning-a-view-versus-a-copy\n",
      "  shark_data_unclean['Full Location'] = pd.factorize(shark_data_unclean['Full Location'])[0]\n"
     ]
    }
   ],
   "source": [
    "#shark_data_unclean = shark_data_unclean[[\"Type\", \"Activity\", \"Fatal (Y/N)\", \"Sex \"]]\n",
    "shark_data_unclean = shark_data_unclean.dropna()\n",
    "\n",
    "shark_data_unclean['Type'] = shark_data_unclean['Type'].str.replace(\"Unprovoked\", '0')\n",
    "shark_data_unclean['Type'] = shark_data_unclean['Type'].str.replace(\"Provoked\", '1')\n",
    "\n",
    "shark_data_unclean['Activity'] = pd.factorize(shark_data_unclean['Activity'])[0] \n",
    "shark_data_unclean['Fatal (Y/N)'] = pd.factorize(shark_data_unclean['Fatal (Y/N)'])[0] \n",
    "shark_data_unclean['Sex '] = pd.factorize(shark_data_unclean['Sex '])[0] \n",
    "shark_data_unclean['Injury'] = pd.factorize(shark_data_unclean['Injury'])[0] \n",
    "shark_data_unclean['Species '] = pd.factorize(shark_data_unclean['Species '])[0] \n",
    "shark_data_unclean['Full Location'] = pd.factorize(shark_data_unclean['Full Location'])[0] \n",
    "\n",
    "#shark_data_unclean['wind_speed'] = pd.factorize(shark_data_unclean['wind_speed'])[0] \n",
    "\n",
    "#shark_data_unclean['Time'] = pd.factorize(shark_data_unclean['Time'])[0] \n",
    "#shark_data_unclean['Age'] = pd.factorize(shark_data_unclean['Age'])[0] \n",
    "#shark_data_unclean['sea_level_pressure'] = pd.factorize(shark_data_unclean['sea_level_pressure'])[0] \n",
    "\n",
    "shark_data_unclean.info()"
   ]
  },
  {
   "cell_type": "code",
   "execution_count": 77,
   "metadata": {},
   "outputs": [
    {
     "data": {
      "text/plain": [
       "Activity\n",
       "0      1060\n",
       "3       724\n",
       "7       311\n",
       "14      304\n",
       "17      273\n",
       "       ... \n",
       "110       1\n",
       "109       1\n",
       "40        1\n",
       "42        1\n",
       "185       1\n",
       "Length: 186, dtype: int64"
      ]
     },
     "execution_count": 77,
     "metadata": {},
     "output_type": "execute_result"
    }
   ],
   "source": [
    "shark_data_unclean.value_counts(\"Activity\")"
   ]
  },
  {
   "cell_type": "code",
   "execution_count": 78,
   "metadata": {},
   "outputs": [],
   "source": [
    "from sklearn.preprocessing import MinMaxScaler\n",
    "\n",
    "df = shark_data_unclean.copy(deep=True)\n",
    "X = df.drop(\"Type\", axis=1)\n",
    "y = df[\"Type\"]"
   ]
  },
  {
   "cell_type": "code",
   "execution_count": 79,
   "metadata": {},
   "outputs": [
    {
     "name": "stdout",
     "output_type": "stream",
     "text": [
      "Avg unprovoked precision:  0.9250930195905883\n",
      "Avg provoked precision:  0.724612844734994\n"
     ]
    }
   ],
   "source": [
    "from sklearn.metrics import confusion_matrix\n",
    "from sklearn.metrics import classification_report\n",
    "from sklearn.model_selection import train_test_split\n",
    "from sklearn.tree import DecisionTreeClassifier\n",
    "\n",
    "total_precision_un = 0\n",
    "total_precision_p = 0\n",
    "num_times = 200\n",
    "\n",
    "for i in range(num_times):\n",
    "    X_train, X_test, y_train, y_test = train_test_split(X, y, test_size=0.3, stratify=y)\n",
    "    \n",
    "    tree_clf = DecisionTreeClassifier(max_depth=4, criterion=\"gini\", random_state=42)\n",
    "    tree_clf.fit(X_train, y_train)\n",
    "\n",
    "    y_pred = tree_clf.predict(X_test)\n",
    "\n",
    "    target_names = ['Unprovoked', 'Provoked']\n",
    "    column_names = df.drop(['Type'], axis=1).columns\n",
    "\n",
    "    result_metrics = classification_report(y_test, y_pred, target_names=target_names, output_dict = True)\n",
    "    total_precision_un += result_metrics[\"Unprovoked\"][\"precision\"]\n",
    "    total_precision_p += result_metrics[\"Provoked\"][\"precision\"]\n",
    "\n",
    "print(\"Avg unprovoked precision: \", total_precision_un / num_times)\n",
    "print(\"Avg provoked precision: \", total_precision_p / num_times)\n"
   ]
  },
  {
   "cell_type": "code",
   "execution_count": 80,
   "metadata": {
    "scrolled": false
   },
   "outputs": [
    {
     "ename": "ExecutableNotFound",
     "evalue": "failed to execute 'dot', make sure the Graphviz executables are on your systems' PATH",
     "output_type": "error",
     "traceback": [
      "\u001b[1;31m---------------------------------------------------------------------------\u001b[0m",
      "\u001b[1;31mFileNotFoundError\u001b[0m                         Traceback (most recent call last)",
      "\u001b[1;32m~\\AppData\\Local\\Programs\\Python\\Python39\\lib\\site-packages\\graphviz\\backend.py\u001b[0m in \u001b[0;36mrun\u001b[1;34m(cmd, input, capture_output, check, encoding, quiet, **kwargs)\u001b[0m\n\u001b[0;32m    169\u001b[0m     \u001b[1;32mtry\u001b[0m\u001b[1;33m:\u001b[0m\u001b[1;33m\u001b[0m\u001b[1;33m\u001b[0m\u001b[0m\n\u001b[1;32m--> 170\u001b[1;33m         \u001b[0mproc\u001b[0m \u001b[1;33m=\u001b[0m \u001b[0msubprocess\u001b[0m\u001b[1;33m.\u001b[0m\u001b[0mPopen\u001b[0m\u001b[1;33m(\u001b[0m\u001b[0mcmd\u001b[0m\u001b[1;33m,\u001b[0m \u001b[0mstartupinfo\u001b[0m\u001b[1;33m=\u001b[0m\u001b[0mget_startupinfo\u001b[0m\u001b[1;33m(\u001b[0m\u001b[1;33m)\u001b[0m\u001b[1;33m,\u001b[0m \u001b[1;33m**\u001b[0m\u001b[0mkwargs\u001b[0m\u001b[1;33m)\u001b[0m\u001b[1;33m\u001b[0m\u001b[1;33m\u001b[0m\u001b[0m\n\u001b[0m\u001b[0;32m    171\u001b[0m     \u001b[1;32mexcept\u001b[0m \u001b[0mOSError\u001b[0m \u001b[1;32mas\u001b[0m \u001b[0me\u001b[0m\u001b[1;33m:\u001b[0m\u001b[1;33m\u001b[0m\u001b[1;33m\u001b[0m\u001b[0m\n",
      "\u001b[1;32m~\\AppData\\Local\\Programs\\Python\\Python39\\lib\\subprocess.py\u001b[0m in \u001b[0;36m__init__\u001b[1;34m(self, args, bufsize, executable, stdin, stdout, stderr, preexec_fn, close_fds, shell, cwd, env, universal_newlines, startupinfo, creationflags, restore_signals, start_new_session, pass_fds, user, group, extra_groups, encoding, errors, text, umask)\u001b[0m\n\u001b[0;32m    946\u001b[0m \u001b[1;33m\u001b[0m\u001b[0m\n\u001b[1;32m--> 947\u001b[1;33m             self._execute_child(args, executable, preexec_fn, close_fds,\n\u001b[0m\u001b[0;32m    948\u001b[0m                                 \u001b[0mpass_fds\u001b[0m\u001b[1;33m,\u001b[0m \u001b[0mcwd\u001b[0m\u001b[1;33m,\u001b[0m \u001b[0menv\u001b[0m\u001b[1;33m,\u001b[0m\u001b[1;33m\u001b[0m\u001b[1;33m\u001b[0m\u001b[0m\n",
      "\u001b[1;32m~\\AppData\\Local\\Programs\\Python\\Python39\\lib\\subprocess.py\u001b[0m in \u001b[0;36m_execute_child\u001b[1;34m(self, args, executable, preexec_fn, close_fds, pass_fds, cwd, env, startupinfo, creationflags, shell, p2cread, p2cwrite, c2pread, c2pwrite, errread, errwrite, unused_restore_signals, unused_gid, unused_gids, unused_uid, unused_umask, unused_start_new_session)\u001b[0m\n\u001b[0;32m   1415\u001b[0m             \u001b[1;32mtry\u001b[0m\u001b[1;33m:\u001b[0m\u001b[1;33m\u001b[0m\u001b[1;33m\u001b[0m\u001b[0m\n\u001b[1;32m-> 1416\u001b[1;33m                 hp, ht, pid, tid = _winapi.CreateProcess(executable, args,\n\u001b[0m\u001b[0;32m   1417\u001b[0m                                          \u001b[1;31m# no special security\u001b[0m\u001b[1;33m\u001b[0m\u001b[1;33m\u001b[0m\u001b[1;33m\u001b[0m\u001b[0m\n",
      "\u001b[1;31mFileNotFoundError\u001b[0m: [WinError 2] The system cannot find the file specified",
      "\nThe above exception was the direct cause of the following exception:\n",
      "\u001b[1;31mExecutableNotFound\u001b[0m                        Traceback (most recent call last)",
      "\u001b[1;32m~\\AppData\\Roaming\\Python\\Python39\\site-packages\\IPython\\core\\formatters.py\u001b[0m in \u001b[0;36m__call__\u001b[1;34m(self, obj)\u001b[0m\n\u001b[0;32m    343\u001b[0m             \u001b[0mmethod\u001b[0m \u001b[1;33m=\u001b[0m \u001b[0mget_real_method\u001b[0m\u001b[1;33m(\u001b[0m\u001b[0mobj\u001b[0m\u001b[1;33m,\u001b[0m \u001b[0mself\u001b[0m\u001b[1;33m.\u001b[0m\u001b[0mprint_method\u001b[0m\u001b[1;33m)\u001b[0m\u001b[1;33m\u001b[0m\u001b[1;33m\u001b[0m\u001b[0m\n\u001b[0;32m    344\u001b[0m             \u001b[1;32mif\u001b[0m \u001b[0mmethod\u001b[0m \u001b[1;32mis\u001b[0m \u001b[1;32mnot\u001b[0m \u001b[1;32mNone\u001b[0m\u001b[1;33m:\u001b[0m\u001b[1;33m\u001b[0m\u001b[1;33m\u001b[0m\u001b[0m\n\u001b[1;32m--> 345\u001b[1;33m                 \u001b[1;32mreturn\u001b[0m \u001b[0mmethod\u001b[0m\u001b[1;33m(\u001b[0m\u001b[1;33m)\u001b[0m\u001b[1;33m\u001b[0m\u001b[1;33m\u001b[0m\u001b[0m\n\u001b[0m\u001b[0;32m    346\u001b[0m             \u001b[1;32mreturn\u001b[0m \u001b[1;32mNone\u001b[0m\u001b[1;33m\u001b[0m\u001b[1;33m\u001b[0m\u001b[0m\n\u001b[0;32m    347\u001b[0m         \u001b[1;32melse\u001b[0m\u001b[1;33m:\u001b[0m\u001b[1;33m\u001b[0m\u001b[1;33m\u001b[0m\u001b[0m\n",
      "\u001b[1;32m~\\AppData\\Local\\Programs\\Python\\Python39\\lib\\site-packages\\graphviz\\files.py\u001b[0m in \u001b[0;36m_repr_svg_\u001b[1;34m(self)\u001b[0m\n\u001b[0;32m    139\u001b[0m \u001b[1;33m\u001b[0m\u001b[0m\n\u001b[0;32m    140\u001b[0m     \u001b[1;32mdef\u001b[0m \u001b[0m_repr_svg_\u001b[0m\u001b[1;33m(\u001b[0m\u001b[0mself\u001b[0m\u001b[1;33m)\u001b[0m\u001b[1;33m:\u001b[0m\u001b[1;33m\u001b[0m\u001b[1;33m\u001b[0m\u001b[0m\n\u001b[1;32m--> 141\u001b[1;33m         \u001b[1;32mreturn\u001b[0m \u001b[0mself\u001b[0m\u001b[1;33m.\u001b[0m\u001b[0mpipe\u001b[0m\u001b[1;33m(\u001b[0m\u001b[0mformat\u001b[0m\u001b[1;33m=\u001b[0m\u001b[1;34m'svg'\u001b[0m\u001b[1;33m)\u001b[0m\u001b[1;33m.\u001b[0m\u001b[0mdecode\u001b[0m\u001b[1;33m(\u001b[0m\u001b[0mself\u001b[0m\u001b[1;33m.\u001b[0m\u001b[0m_encoding\u001b[0m\u001b[1;33m)\u001b[0m\u001b[1;33m\u001b[0m\u001b[1;33m\u001b[0m\u001b[0m\n\u001b[0m\u001b[0;32m    142\u001b[0m \u001b[1;33m\u001b[0m\u001b[0m\n\u001b[0;32m    143\u001b[0m     \u001b[1;32mdef\u001b[0m \u001b[0mpipe\u001b[0m\u001b[1;33m(\u001b[0m\u001b[0mself\u001b[0m\u001b[1;33m,\u001b[0m \u001b[0mformat\u001b[0m\u001b[1;33m=\u001b[0m\u001b[1;32mNone\u001b[0m\u001b[1;33m,\u001b[0m \u001b[0mrenderer\u001b[0m\u001b[1;33m=\u001b[0m\u001b[1;32mNone\u001b[0m\u001b[1;33m,\u001b[0m \u001b[0mformatter\u001b[0m\u001b[1;33m=\u001b[0m\u001b[1;32mNone\u001b[0m\u001b[1;33m,\u001b[0m \u001b[0mquiet\u001b[0m\u001b[1;33m=\u001b[0m\u001b[1;32mFalse\u001b[0m\u001b[1;33m)\u001b[0m\u001b[1;33m:\u001b[0m\u001b[1;33m\u001b[0m\u001b[1;33m\u001b[0m\u001b[0m\n",
      "\u001b[1;32m~\\AppData\\Local\\Programs\\Python\\Python39\\lib\\site-packages\\graphviz\\files.py\u001b[0m in \u001b[0;36mpipe\u001b[1;34m(self, format, renderer, formatter, quiet)\u001b[0m\n\u001b[0;32m    164\u001b[0m         \u001b[0mdata\u001b[0m \u001b[1;33m=\u001b[0m \u001b[0mself\u001b[0m\u001b[1;33m.\u001b[0m\u001b[0msource\u001b[0m\u001b[1;33m.\u001b[0m\u001b[0mencode\u001b[0m\u001b[1;33m(\u001b[0m\u001b[0mself\u001b[0m\u001b[1;33m.\u001b[0m\u001b[0m_encoding\u001b[0m\u001b[1;33m)\u001b[0m\u001b[1;33m\u001b[0m\u001b[1;33m\u001b[0m\u001b[0m\n\u001b[0;32m    165\u001b[0m \u001b[1;33m\u001b[0m\u001b[0m\n\u001b[1;32m--> 166\u001b[1;33m         out = backend.pipe(self._engine, format, data,\n\u001b[0m\u001b[0;32m    167\u001b[0m                            \u001b[0mrenderer\u001b[0m\u001b[1;33m=\u001b[0m\u001b[0mrenderer\u001b[0m\u001b[1;33m,\u001b[0m \u001b[0mformatter\u001b[0m\u001b[1;33m=\u001b[0m\u001b[0mformatter\u001b[0m\u001b[1;33m,\u001b[0m\u001b[1;33m\u001b[0m\u001b[1;33m\u001b[0m\u001b[0m\n\u001b[0;32m    168\u001b[0m                            quiet=quiet)\n",
      "\u001b[1;32m~\\AppData\\Local\\Programs\\Python\\Python39\\lib\\site-packages\\graphviz\\backend.py\u001b[0m in \u001b[0;36mpipe\u001b[1;34m(engine, format, data, renderer, formatter, quiet)\u001b[0m\n\u001b[0;32m    266\u001b[0m     \"\"\"\n\u001b[0;32m    267\u001b[0m     \u001b[0mcmd\u001b[0m\u001b[1;33m,\u001b[0m \u001b[0m_\u001b[0m \u001b[1;33m=\u001b[0m \u001b[0mcommand\u001b[0m\u001b[1;33m(\u001b[0m\u001b[0mengine\u001b[0m\u001b[1;33m,\u001b[0m \u001b[0mformat\u001b[0m\u001b[1;33m,\u001b[0m \u001b[1;32mNone\u001b[0m\u001b[1;33m,\u001b[0m \u001b[0mrenderer\u001b[0m\u001b[1;33m,\u001b[0m \u001b[0mformatter\u001b[0m\u001b[1;33m)\u001b[0m\u001b[1;33m\u001b[0m\u001b[1;33m\u001b[0m\u001b[0m\n\u001b[1;32m--> 268\u001b[1;33m     \u001b[0mout\u001b[0m\u001b[1;33m,\u001b[0m \u001b[0m_\u001b[0m \u001b[1;33m=\u001b[0m \u001b[0mrun\u001b[0m\u001b[1;33m(\u001b[0m\u001b[0mcmd\u001b[0m\u001b[1;33m,\u001b[0m \u001b[0minput\u001b[0m\u001b[1;33m=\u001b[0m\u001b[0mdata\u001b[0m\u001b[1;33m,\u001b[0m \u001b[0mcapture_output\u001b[0m\u001b[1;33m=\u001b[0m\u001b[1;32mTrue\u001b[0m\u001b[1;33m,\u001b[0m \u001b[0mcheck\u001b[0m\u001b[1;33m=\u001b[0m\u001b[1;32mTrue\u001b[0m\u001b[1;33m,\u001b[0m \u001b[0mquiet\u001b[0m\u001b[1;33m=\u001b[0m\u001b[0mquiet\u001b[0m\u001b[1;33m)\u001b[0m\u001b[1;33m\u001b[0m\u001b[1;33m\u001b[0m\u001b[0m\n\u001b[0m\u001b[0;32m    269\u001b[0m     \u001b[1;32mreturn\u001b[0m \u001b[0mout\u001b[0m\u001b[1;33m\u001b[0m\u001b[1;33m\u001b[0m\u001b[0m\n\u001b[0;32m    270\u001b[0m \u001b[1;33m\u001b[0m\u001b[0m\n",
      "\u001b[1;32m~\\AppData\\Local\\Programs\\Python\\Python39\\lib\\site-packages\\graphviz\\backend.py\u001b[0m in \u001b[0;36mrun\u001b[1;34m(cmd, input, capture_output, check, encoding, quiet, **kwargs)\u001b[0m\n\u001b[0;32m    171\u001b[0m     \u001b[1;32mexcept\u001b[0m \u001b[0mOSError\u001b[0m \u001b[1;32mas\u001b[0m \u001b[0me\u001b[0m\u001b[1;33m:\u001b[0m\u001b[1;33m\u001b[0m\u001b[1;33m\u001b[0m\u001b[0m\n\u001b[0;32m    172\u001b[0m         \u001b[1;32mif\u001b[0m \u001b[0me\u001b[0m\u001b[1;33m.\u001b[0m\u001b[0merrno\u001b[0m \u001b[1;33m==\u001b[0m \u001b[0merrno\u001b[0m\u001b[1;33m.\u001b[0m\u001b[0mENOENT\u001b[0m\u001b[1;33m:\u001b[0m\u001b[1;33m\u001b[0m\u001b[1;33m\u001b[0m\u001b[0m\n\u001b[1;32m--> 173\u001b[1;33m             \u001b[1;32mraise\u001b[0m \u001b[0mExecutableNotFound\u001b[0m\u001b[1;33m(\u001b[0m\u001b[0mcmd\u001b[0m\u001b[1;33m)\u001b[0m \u001b[1;32mfrom\u001b[0m \u001b[0me\u001b[0m\u001b[1;33m\u001b[0m\u001b[1;33m\u001b[0m\u001b[0m\n\u001b[0m\u001b[0;32m    174\u001b[0m         \u001b[1;32melse\u001b[0m\u001b[1;33m:\u001b[0m\u001b[1;33m\u001b[0m\u001b[1;33m\u001b[0m\u001b[0m\n\u001b[0;32m    175\u001b[0m             \u001b[1;32mraise\u001b[0m\u001b[1;33m\u001b[0m\u001b[1;33m\u001b[0m\u001b[0m\n",
      "\u001b[1;31mExecutableNotFound\u001b[0m: failed to execute 'dot', make sure the Graphviz executables are on your systems' PATH"
     ]
    },
    {
     "data": {
      "text/plain": [
       "<graphviz.files.Source at 0x1512bb2fdc0>"
      ]
     },
     "execution_count": 80,
     "metadata": {},
     "output_type": "execute_result"
    }
   ],
   "source": [
    "from graphviz import Source\n",
    "from sklearn.tree import export_graphviz\n",
    "\n",
    "export_graphviz(\n",
    "        tree_clf,\n",
    "        out_file=(\"shark_attack_tree.dot\"),\n",
    "        feature_names=column_names,\n",
    "        class_names=target_names,\n",
    "        rounded=True,\n",
    "        filled=True\n",
    "    )\n",
    "\n",
    "Source.from_file(\"shark_attack_tree.dot\")"
   ]
  },
  {
   "cell_type": "code",
   "execution_count": null,
   "metadata": {},
   "outputs": [
    {
     "name": "stdout",
     "output_type": "stream",
     "text": [
      "Avg unprovoked precision:  1.0\n",
      "Avg provoked precision:  0.1066235864297256\n"
     ]
    }
   ],
   "source": [
    "from sklearn.naive_bayes import GaussianNB\n",
    "from sklearn import metrics\n",
    "\n",
    "total_precision_un = 0\n",
    "total_precision_p = 0\n",
    "num_times = 200\n",
    "\n",
    "for i in range(num_times):\n",
    "    naive_bayes = GaussianNB()\n",
    "    naive_bayes.fit(X_train, y_train)\n",
    "\n",
    "    y_pred = naive_bayes.predict(X_test)\n",
    "    result_metrics = classification_report(y_test, y_pred, target_names=target_names, output_dict = True)\n",
    "    total_precision_un += result_metrics[\"Unprovoked\"][\"precision\"]\n",
    "    total_precision_p += result_metrics[\"Provoked\"][\"precision\"]\n",
    "\n",
    "print(\"Avg unprovoked precision: \", total_precision_un / num_times)\n",
    "print(\"Avg provoked precision: \", total_precision_p / num_times)"
   ]
  },
  {
   "cell_type": "code",
   "execution_count": null,
   "metadata": {},
   "outputs": [
    {
     "ename": "ValueError",
     "evalue": "Negative values in data passed to MultinomialNB (input X)",
     "output_type": "error",
     "traceback": [
      "\u001b[1;31m---------------------------------------------------------------------------\u001b[0m",
      "\u001b[1;31mValueError\u001b[0m                                Traceback (most recent call last)",
      "\u001b[1;32m<ipython-input-60-5d894cfe30cf>\u001b[0m in \u001b[0;36m<module>\u001b[1;34m\u001b[0m\n\u001b[0;32m      8\u001b[0m \u001b[1;32mfor\u001b[0m \u001b[0mi\u001b[0m \u001b[1;32min\u001b[0m \u001b[0mrange\u001b[0m\u001b[1;33m(\u001b[0m\u001b[0mnum_times\u001b[0m\u001b[1;33m)\u001b[0m\u001b[1;33m:\u001b[0m\u001b[1;33m\u001b[0m\u001b[1;33m\u001b[0m\u001b[0m\n\u001b[0;32m      9\u001b[0m     \u001b[0mnaive_bayes\u001b[0m \u001b[1;33m=\u001b[0m \u001b[0mMultinomialNB\u001b[0m\u001b[1;33m(\u001b[0m\u001b[1;33m)\u001b[0m\u001b[1;33m\u001b[0m\u001b[1;33m\u001b[0m\u001b[0m\n\u001b[1;32m---> 10\u001b[1;33m     \u001b[0mnaive_bayes\u001b[0m\u001b[1;33m.\u001b[0m\u001b[0mfit\u001b[0m\u001b[1;33m(\u001b[0m\u001b[0mX_train\u001b[0m\u001b[1;33m,\u001b[0m \u001b[0my_train\u001b[0m\u001b[1;33m)\u001b[0m\u001b[1;33m\u001b[0m\u001b[1;33m\u001b[0m\u001b[0m\n\u001b[0m\u001b[0;32m     11\u001b[0m \u001b[1;33m\u001b[0m\u001b[0m\n\u001b[0;32m     12\u001b[0m     \u001b[0my_pred\u001b[0m \u001b[1;33m=\u001b[0m \u001b[0mnaive_bayes\u001b[0m\u001b[1;33m.\u001b[0m\u001b[0mpredict\u001b[0m\u001b[1;33m(\u001b[0m\u001b[0mX_test\u001b[0m\u001b[1;33m)\u001b[0m\u001b[1;33m\u001b[0m\u001b[1;33m\u001b[0m\u001b[0m\n",
      "\u001b[1;32m~\\AppData\\Local\\Programs\\Python\\Python39\\lib\\site-packages\\sklearn\\naive_bayes.py\u001b[0m in \u001b[0;36mfit\u001b[1;34m(self, X, y, sample_weight)\u001b[0m\n\u001b[0;32m    688\u001b[0m         \u001b[0mn_classes\u001b[0m \u001b[1;33m=\u001b[0m \u001b[0mY\u001b[0m\u001b[1;33m.\u001b[0m\u001b[0mshape\u001b[0m\u001b[1;33m[\u001b[0m\u001b[1;36m1\u001b[0m\u001b[1;33m]\u001b[0m\u001b[1;33m\u001b[0m\u001b[1;33m\u001b[0m\u001b[0m\n\u001b[0;32m    689\u001b[0m         \u001b[0mself\u001b[0m\u001b[1;33m.\u001b[0m\u001b[0m_init_counters\u001b[0m\u001b[1;33m(\u001b[0m\u001b[0mn_classes\u001b[0m\u001b[1;33m,\u001b[0m \u001b[0mn_features\u001b[0m\u001b[1;33m)\u001b[0m\u001b[1;33m\u001b[0m\u001b[1;33m\u001b[0m\u001b[0m\n\u001b[1;32m--> 690\u001b[1;33m         \u001b[0mself\u001b[0m\u001b[1;33m.\u001b[0m\u001b[0m_count\u001b[0m\u001b[1;33m(\u001b[0m\u001b[0mX\u001b[0m\u001b[1;33m,\u001b[0m \u001b[0mY\u001b[0m\u001b[1;33m)\u001b[0m\u001b[1;33m\u001b[0m\u001b[1;33m\u001b[0m\u001b[0m\n\u001b[0m\u001b[0;32m    691\u001b[0m         \u001b[0malpha\u001b[0m \u001b[1;33m=\u001b[0m \u001b[0mself\u001b[0m\u001b[1;33m.\u001b[0m\u001b[0m_check_alpha\u001b[0m\u001b[1;33m(\u001b[0m\u001b[1;33m)\u001b[0m\u001b[1;33m\u001b[0m\u001b[1;33m\u001b[0m\u001b[0m\n\u001b[0;32m    692\u001b[0m         \u001b[0mself\u001b[0m\u001b[1;33m.\u001b[0m\u001b[0m_update_feature_log_prob\u001b[0m\u001b[1;33m(\u001b[0m\u001b[0malpha\u001b[0m\u001b[1;33m)\u001b[0m\u001b[1;33m\u001b[0m\u001b[1;33m\u001b[0m\u001b[0m\n",
      "\u001b[1;32m~\\AppData\\Local\\Programs\\Python\\Python39\\lib\\site-packages\\sklearn\\naive_bayes.py\u001b[0m in \u001b[0;36m_count\u001b[1;34m(self, X, Y)\u001b[0m\n\u001b[0;32m    861\u001b[0m     \u001b[1;32mdef\u001b[0m \u001b[0m_count\u001b[0m\u001b[1;33m(\u001b[0m\u001b[0mself\u001b[0m\u001b[1;33m,\u001b[0m \u001b[0mX\u001b[0m\u001b[1;33m,\u001b[0m \u001b[0mY\u001b[0m\u001b[1;33m)\u001b[0m\u001b[1;33m:\u001b[0m\u001b[1;33m\u001b[0m\u001b[1;33m\u001b[0m\u001b[0m\n\u001b[0;32m    862\u001b[0m         \u001b[1;34m\"\"\"Count and smooth feature occurrences.\"\"\"\u001b[0m\u001b[1;33m\u001b[0m\u001b[1;33m\u001b[0m\u001b[0m\n\u001b[1;32m--> 863\u001b[1;33m         \u001b[0mcheck_non_negative\u001b[0m\u001b[1;33m(\u001b[0m\u001b[0mX\u001b[0m\u001b[1;33m,\u001b[0m \u001b[1;34m\"MultinomialNB (input X)\"\u001b[0m\u001b[1;33m)\u001b[0m\u001b[1;33m\u001b[0m\u001b[1;33m\u001b[0m\u001b[0m\n\u001b[0m\u001b[0;32m    864\u001b[0m         \u001b[0mself\u001b[0m\u001b[1;33m.\u001b[0m\u001b[0mfeature_count_\u001b[0m \u001b[1;33m+=\u001b[0m \u001b[0msafe_sparse_dot\u001b[0m\u001b[1;33m(\u001b[0m\u001b[0mY\u001b[0m\u001b[1;33m.\u001b[0m\u001b[0mT\u001b[0m\u001b[1;33m,\u001b[0m \u001b[0mX\u001b[0m\u001b[1;33m)\u001b[0m\u001b[1;33m\u001b[0m\u001b[1;33m\u001b[0m\u001b[0m\n\u001b[0;32m    865\u001b[0m         \u001b[0mself\u001b[0m\u001b[1;33m.\u001b[0m\u001b[0mclass_count_\u001b[0m \u001b[1;33m+=\u001b[0m \u001b[0mY\u001b[0m\u001b[1;33m.\u001b[0m\u001b[0msum\u001b[0m\u001b[1;33m(\u001b[0m\u001b[0maxis\u001b[0m\u001b[1;33m=\u001b[0m\u001b[1;36m0\u001b[0m\u001b[1;33m)\u001b[0m\u001b[1;33m\u001b[0m\u001b[1;33m\u001b[0m\u001b[0m\n",
      "\u001b[1;32m~\\AppData\\Local\\Programs\\Python\\Python39\\lib\\site-packages\\sklearn\\utils\\validation.py\u001b[0m in \u001b[0;36mcheck_non_negative\u001b[1;34m(X, whom)\u001b[0m\n\u001b[0;32m   1234\u001b[0m \u001b[1;33m\u001b[0m\u001b[0m\n\u001b[0;32m   1235\u001b[0m     \u001b[1;32mif\u001b[0m \u001b[0mX_min\u001b[0m \u001b[1;33m<\u001b[0m \u001b[1;36m0\u001b[0m\u001b[1;33m:\u001b[0m\u001b[1;33m\u001b[0m\u001b[1;33m\u001b[0m\u001b[0m\n\u001b[1;32m-> 1236\u001b[1;33m         \u001b[1;32mraise\u001b[0m \u001b[0mValueError\u001b[0m\u001b[1;33m(\u001b[0m\u001b[1;34m\"Negative values in data passed to %s\"\u001b[0m \u001b[1;33m%\u001b[0m \u001b[0mwhom\u001b[0m\u001b[1;33m)\u001b[0m\u001b[1;33m\u001b[0m\u001b[1;33m\u001b[0m\u001b[0m\n\u001b[0m\u001b[0;32m   1237\u001b[0m \u001b[1;33m\u001b[0m\u001b[0m\n\u001b[0;32m   1238\u001b[0m \u001b[1;33m\u001b[0m\u001b[0m\n",
      "\u001b[1;31mValueError\u001b[0m: Negative values in data passed to MultinomialNB (input X)"
     ]
    }
   ],
   "source": [
    "from sklearn.naive_bayes import MultinomialNB\n",
    "from sklearn import metrics\n",
    "\n",
    "total_precision_un = 0\n",
    "total_precision_p = 0\n",
    "num_times = 200\n",
    "\n",
    "for i in range(num_times):\n",
    "    naive_bayes = MultinomialNB()\n",
    "    naive_bayes.fit(X_train, y_train)\n",
    "\n",
    "    y_pred = naive_bayes.predict(X_test)\n",
    "    result_metrics = classification_report(y_test, y_pred, target_names=target_names, output_dict = True)\n",
    "    total_precision_un += result_metrics[\"Unprovoked\"][\"precision\"]\n",
    "    total_precision_p += result_metrics[\"Provoked\"][\"precision\"]\n",
    "\n",
    "print(\"Avg unprovoked precision: \", total_precision_un / num_times)\n",
    "print(\"Avg provoked precision: \", total_precision_p / num_times)"
   ]
  },
  {
   "cell_type": "code",
   "execution_count": null,
   "metadata": {},
   "outputs": [
    {
     "name": "stdout",
     "output_type": "stream",
     "text": [
      "Avg unprovoked precision:  0.9032807657652334\n",
      "Avg provoked precision:  0.5792864334972676\n"
     ]
    }
   ],
   "source": [
    "from sklearn.preprocessing import StandardScaler\n",
    "from sklearn.neighbors import KNeighborsClassifier\n",
    "\n",
    "total_precision_un = 0\n",
    "total_precision_p = 0\n",
    "num_times = 200\n",
    "\n",
    "for i in range(num_times):  \n",
    "    X_train, X_test, y_train, y_test = train_test_split(X, y, test_size=0.20)\n",
    "    scaler = MinMaxScaler()\n",
    "    X_train = scaler.fit_transform(X_train)\n",
    "    X_test = scaler.fit_transform(X_test)\n",
    "    \n",
    "    clf = KNeighborsClassifier(n_neighbors = 20)\n",
    "    clf.fit(X_train, y_train)\n",
    "    y_pred = clf.predict(X_test)\n",
    "    \n",
    "    result_metrics = classification_report(y_test, y_pred, target_names=target_names, output_dict = True)\n",
    "    total_precision_un += result_metrics[\"Unprovoked\"][\"precision\"]\n",
    "    total_precision_p += result_metrics[\"Provoked\"][\"precision\"]\n",
    "\n",
    "print(\"Avg unprovoked precision: \", total_precision_un / num_times)\n",
    "print(\"Avg provoked precision: \", total_precision_p / num_times)\n"
   ]
  },
  {
   "cell_type": "code",
   "execution_count": null,
   "metadata": {},
   "outputs": [
    {
     "name": "stdout",
     "output_type": "stream",
     "text": [
      "Avg unprovoked precision:  0.9410987356760094\n",
      "Avg provoked precision:  0.6381282797189675\n",
      "\n",
      "Avg unprovoked precision:  0.940989965888799\n",
      "Avg provoked precision:  0.6543537780644698\n",
      "\n",
      "Avg unprovoked precision:  0.9377431882788644\n",
      "Avg provoked precision:  0.6748383929847113\n",
      "\n",
      "Avg unprovoked precision:  0.9387723873930133\n",
      "Avg provoked precision:  0.6840135094114111\n",
      "\n",
      "Avg unprovoked precision:  0.943937094523174\n",
      "Avg provoked precision:  0.6401789988432354\n",
      "\n",
      "Avg unprovoked precision:  0.9463195218270695\n",
      "Avg provoked precision:  0.6489051962581376\n",
      "\n"
     ]
    }
   ],
   "source": [
    "from sklearn.ensemble import RandomForestClassifier\n",
    "\n",
    "total_precision_un = 0\n",
    "total_precision_p = 0\n",
    "num_times = 10\n",
    "num_tests = 7\n",
    "\n",
    "for i in range(1, num_tests):\n",
    "    total_precision_un = 0\n",
    "    total_precision_p = 0\n",
    "    for j in range(num_times):\n",
    "        X_train, X_test, y_train, y_test = train_test_split(X, y, test_size=0.20, stratify=y)\n",
    "        scaler = MinMaxScaler()\n",
    "        X_train = scaler.fit_transform(X_train)\n",
    "        X_test = scaler.fit_transform(X_test)\n",
    "        \n",
    "        clf = RandomForestClassifier(n_estimators = 100*i)\n",
    "        clf.fit(X_train, y_train)\n",
    "        y_pred = clf.predict(X_test)\n",
    "\n",
    "        result_metrics = classification_report(y_test, y_pred, target_names=target_names, output_dict = True)\n",
    "        total_precision_un += result_metrics[\"Unprovoked\"][\"precision\"]\n",
    "        total_precision_p += result_metrics[\"Provoked\"][\"precision\"]\n",
    "\n",
    "    print(\"Avg unprovoked precision: \", total_precision_un / num_times)\n",
    "    print(\"Avg provoked precision: \", total_precision_p / num_times)\n",
    "    print()"
   ]
  },
  {
   "cell_type": "code",
   "execution_count": null,
   "metadata": {},
   "outputs": [
    {
     "name": "stdout",
     "output_type": "stream",
     "text": [
      "Avg unprovoked precision:  0.8986492242619398\n",
      "Avg provoked precision:  0.38218232468425967\n"
     ]
    },
    {
     "name": "stderr",
     "output_type": "stream",
     "text": [
      "E:\\Anaconda\\lib\\site-packages\\sklearn\\neural_network\\_multilayer_perceptron.py:500: ConvergenceWarning: lbfgs failed to converge (status=1):\n",
      "STOP: TOTAL NO. of ITERATIONS REACHED LIMIT.\n",
      "\n",
      "Increase the number of iterations (max_iter) or scale the data as shown in:\n",
      "    https://scikit-learn.org/stable/modules/preprocessing.html\n",
      "  self.n_iter_ = _check_optimize_result(\"lbfgs\", opt_res, self.max_iter)\n"
     ]
    }
   ],
   "source": [
    "from sklearn.neural_network import MLPClassifier\n",
    "\n",
    "total_precision_un = 0\n",
    "total_precision_p = 0\n",
    "num_times = 10\n",
    "\n",
    "for i in range(num_times):\n",
    "    X_train, X_test, y_train, y_test = train_test_split(X, y, test_size=0.20, stratify=y)\n",
    "    scaler = MinMaxScaler()\n",
    "    X_train = scaler.fit_transform(X_train)\n",
    "    X_test = scaler.fit_transform(X_test)\n",
    "    \n",
    "    clf = MLPClassifier(random_state=42, solver='lbfgs', max_iter=200)\n",
    "\n",
    "    clf.fit(X_train, y_train)\n",
    "\n",
    "    y_pred = clf.predict(X_test)\n",
    "    result_metrics = classification_report(y_test, y_pred, target_names=target_names, output_dict = True)\n",
    "    total_precision_un += result_metrics[\"Unprovoked\"][\"precision\"]\n",
    "    total_precision_p += result_metrics[\"Provoked\"][\"precision\"]\n",
    "\n",
    "print(\"Avg unprovoked precision: \", total_precision_un / num_times)\n",
    "print(\"Avg provoked precision: \", total_precision_p / num_times)"
   ]
  }
 ],
 "metadata": {
  "interpreter": {
   "hash": "167380c844cb8dab65f7a2242fcdd292fd16a45a4bab8a9de8ac74aeee39fadd"
  },
  "kernelspec": {
   "display_name": "Python 3",
   "language": "python",
   "name": "python3"
  },
  "language_info": {
   "codemirror_mode": {
    "name": "ipython",
    "version": 3
   },
   "file_extension": ".py",
   "mimetype": "text/x-python",
   "name": "python",
   "nbconvert_exporter": "python",
   "pygments_lexer": "ipython3",
   "version": "3.9.0"
  }
 },
 "nbformat": 4,
 "nbformat_minor": 2
}
